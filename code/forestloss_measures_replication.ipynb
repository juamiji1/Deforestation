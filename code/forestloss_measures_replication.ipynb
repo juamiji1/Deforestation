{
 "cells": [
  {
   "cell_type": "markdown",
   "metadata": {},
   "source": [
    "# Calculating Forest Loss (using Hansen)"
   ]
  },
  {
   "cell_type": "code",
   "execution_count": 18,
   "metadata": {},
   "outputs": [
    {
     "data": {
      "text/html": [
       "\n",
       "            <style>\n",
       "                .geemap-dark {\n",
       "                    --jp-widgets-color: white;\n",
       "                    --jp-widgets-label-color: white;\n",
       "                    --jp-ui-font-color1: white;\n",
       "                    --jp-layout-color2: #454545;\n",
       "                    background-color: #383838;\n",
       "                }\n",
       "\n",
       "                .geemap-dark .jupyter-button {\n",
       "                    --jp-layout-color3: #383838;\n",
       "                }\n",
       "\n",
       "                .geemap-colab {\n",
       "                    background-color: var(--colab-primary-surface-color, white);\n",
       "                }\n",
       "\n",
       "                .geemap-colab .jupyter-button {\n",
       "                    --jp-layout-color3: var(--colab-primary-surface-color, white);\n",
       "                }\n",
       "            </style>\n",
       "            "
      ],
      "text/plain": [
       "<IPython.core.display.HTML object>"
      ]
     },
     "metadata": {},
     "output_type": "display_data"
    }
   ],
   "source": [
    "import os\n",
    "import ee\n",
    "import geemap \n",
    "import pandas as pd\n",
    "\n",
    "#ee.Authenticate()\n",
    "ee.Initialize()"
   ]
  },
  {
   "cell_type": "markdown",
   "metadata": {},
   "source": [
    "## Loading & Clipping Imagery"
   ]
  },
  {
   "cell_type": "code",
   "execution_count": 3,
   "metadata": {},
   "outputs": [
    {
     "data": {
      "text/html": [
       "\n",
       "            <style>\n",
       "                .geemap-dark {\n",
       "                    --jp-widgets-color: white;\n",
       "                    --jp-widgets-label-color: white;\n",
       "                    --jp-ui-font-color1: white;\n",
       "                    --jp-layout-color2: #454545;\n",
       "                    background-color: #383838;\n",
       "                }\n",
       "\n",
       "                .geemap-dark .jupyter-button {\n",
       "                    --jp-layout-color3: #383838;\n",
       "                }\n",
       "\n",
       "                .geemap-colab {\n",
       "                    background-color: var(--colab-primary-surface-color, white);\n",
       "                }\n",
       "\n",
       "                .geemap-colab .jupyter-button {\n",
       "                    --jp-layout-color3: var(--colab-primary-surface-color, white);\n",
       "                }\n",
       "            </style>\n",
       "            "
      ],
      "text/plain": [
       "<IPython.core.display.HTML object>"
      ]
     },
     "metadata": {},
     "output_type": "display_data"
    }
   ],
   "source": [
    "# Define the bounding box of Colombia (using a shapefile uploaded to the assets folder)\n",
    "colombiaMpios = ee.FeatureCollection('projects/ee-juamiji/assets/Muni')\n",
    "\n",
    "# Import the Forest loss image\n",
    "flossHansen = ee.Image(\"UMD/hansen/global_forest_change_2023_v1_11\")\n",
    "\n",
    "# Import the Primary Tropical Forest cover image collection and filter it for Colombia\n",
    "primaryForest_hansen = ee.ImageCollection(\"UMD/GLAD/PRIMARY_HUMID_TROPICAL_FORESTS/v1\").mosaic().selfMask()\n",
    "primaryForest_hansen_COL = primaryForest_hansen.clip(colombiaMpios)\n",
    "\n",
    "# Clip the Forest loss image to Colombia's boundaries\n",
    "flossHansen_COL = flossHansen.clip(colombiaMpios)\n",
    "\n",
    "# Visualization parameters for the map\n",
    "# viz_params = {\n",
    "#     'min':1,  # Minimum value for visualization\n",
    "#     'max': 1,  # Maximum value for visualization\n",
    "#     'palette': ['008000']  # Color gradient\n",
    "# }\n",
    "\n",
    "# Initialize the map using geemap\n",
    "# Map = geemap.Map(center=[4.0, -72.0], zoom=5)  # Center roughly in Colombia with an appropriate zoom level\n",
    "# Map.addLayer(primaryForest_hansen_COL, viz_params, \"Primary Tropical Forests\")\n",
    "# Map\n"
   ]
  },
  {
   "cell_type": "code",
   "execution_count": 22,
   "metadata": {},
   "outputs": [
    {
     "data": {
      "text/html": [
       "\n",
       "            <style>\n",
       "                .geemap-dark {\n",
       "                    --jp-widgets-color: white;\n",
       "                    --jp-widgets-label-color: white;\n",
       "                    --jp-ui-font-color1: white;\n",
       "                    --jp-layout-color2: #454545;\n",
       "                    background-color: #383838;\n",
       "                }\n",
       "\n",
       "                .geemap-dark .jupyter-button {\n",
       "                    --jp-layout-color3: #383838;\n",
       "                }\n",
       "\n",
       "                .geemap-colab {\n",
       "                    background-color: var(--colab-primary-surface-color, white);\n",
       "                }\n",
       "\n",
       "                .geemap-colab .jupyter-button {\n",
       "                    --jp-layout-color3: var(--colab-primary-surface-color, white);\n",
       "                }\n",
       "            </style>\n",
       "            "
      ],
      "text/plain": [
       "<IPython.core.display.HTML object>"
      ]
     },
     "metadata": {},
     "output_type": "display_data"
    },
    {
     "data": {
      "application/vnd.jupyter.widget-view+json": {
       "model_id": "fb2459df42eb49fba902ac3b8226dea3",
       "version_major": 2,
       "version_minor": 0
      },
      "text/plain": [
       "Map(center=[4.0, -72.0], controls=(WidgetControl(options=['position', 'transparent_bg'], widget=SearchDataGUI(…"
      ]
     },
     "execution_count": 22,
     "metadata": {},
     "output_type": "execute_result"
    },
    {
     "data": {
      "application/javascript": "\n        var code = IPython.notebook.insert_cell_below('code');\n        code.set_text(atob(\"dmlzX3BhcmFtcyA9IHsnYmFuZHMnOiBbJ2xvc3N5ZWFyJ10sICdwYWxldHRlJzogWycjZmZmZjAwJywgJyNmZjAwMDAnXSwgJ21pbic6IDAuOTk5OTk5OTk5OTk5OTk5OSwgJ21heCc6IDEyMC4wfQ==\"));\n    ",
      "text/plain": [
       "<IPython.core.display.Javascript object>"
      ]
     },
     "metadata": {},
     "output_type": "display_data"
    },
    {
     "name": "stdout",
     "output_type": "stream",
     "text": [
      "vis_params = {'bands': ['lossyear'], 'palette': ['#ffff00', '#ff0000'], 'min': 0.9999999999999999, 'max': 120.0}\n"
     ]
    },
    {
     "data": {
      "application/javascript": "\n        var code = IPython.notebook.insert_cell_below('code');\n        code.set_text(atob(\"dmlzX3BhcmFtcyA9IHsnYmFuZHMnOiBbJ2xvc3N5ZWFyJ10sICdwYWxldHRlJzogWycjZmZmZjAwJywgJyNmZjAwMDAnXSwgJ21pbic6IDAuOTk5OTk5OTk5OTk5OTk5OSwgJ21heCc6IDEyMC4wfQ==\"));\n    ",
      "text/plain": [
       "<IPython.core.display.Javascript object>"
      ]
     },
     "metadata": {},
     "output_type": "display_data"
    },
    {
     "name": "stdout",
     "output_type": "stream",
     "text": [
      "vis_params = {'bands': ['lossyear'], 'palette': ['#ffff00', '#ff0000'], 'min': 0.9999999999999999, 'max': 120.0}\n"
     ]
    }
   ],
   "source": [
    "# Create a mask where fcover is equal to 1.\n",
    "primaryMask = primaryForest_hansen_COL.eq(1)\n",
    "\n",
    "# Masking the floss imagery using the primary mask (cover equals 1)\n",
    "flossHansen_COLmasked = flossHansen_COL.updateMask(primaryMask)\n",
    "\n",
    "# Select the 'lossyear' band from the masked forest loss image\n",
    "loss_year = flossHansen_COLmasked.select(['lossyear'])\n",
    "\n",
    "\n",
    "# # Visualization parameters\n",
    "# primary_forest_viz = {\n",
    "#     'min': 1,\n",
    "#     'max': 1,\n",
    "#     'palette': ['green']  # Primary forest is displayed in green\n",
    "# }\n",
    "\n",
    "# loss_year_viz = {\n",
    "#     'min': 1,\n",
    "#      'max': 1,\n",
    "#   'palette': ['red']\n",
    "# }\n",
    "\n",
    "# # Initialize the map using geemap\n",
    "# Map = geemap.Map(center=[4.0, -72.0], zoom=6)  # Center roughly in Colombia\n",
    "\n",
    "# # Add the Primary Tropical Forests layer\n",
    "# Map.addLayer(primaryForest_hansen_COL, primary_forest_viz, \"Primary Tropical Forests\")\n",
    "\n",
    "# # Add the Forest Loss for the specified year layer\n",
    "# Map.addLayer(modified_loss_year, loss_year_viz, f\"Forest Loss {year}\")\n",
    "\n",
    "# # Display the map\n",
    "# Map"
   ]
  },
  {
   "cell_type": "code",
   "execution_count": 41,
   "metadata": {},
   "outputs": [
    {
     "data": {
      "text/html": [
       "\n",
       "            <style>\n",
       "                .geemap-dark {\n",
       "                    --jp-widgets-color: white;\n",
       "                    --jp-widgets-label-color: white;\n",
       "                    --jp-ui-font-color1: white;\n",
       "                    --jp-layout-color2: #454545;\n",
       "                    background-color: #383838;\n",
       "                }\n",
       "\n",
       "                .geemap-dark .jupyter-button {\n",
       "                    --jp-layout-color3: #383838;\n",
       "                }\n",
       "\n",
       "                .geemap-colab {\n",
       "                    background-color: var(--colab-primary-surface-color, white);\n",
       "                }\n",
       "\n",
       "                .geemap-colab .jupyter-button {\n",
       "                    --jp-layout-color3: var(--colab-primary-surface-color, white);\n",
       "                }\n",
       "            </style>\n",
       "            "
      ],
      "text/plain": [
       "<IPython.core.display.HTML object>"
      ]
     },
     "metadata": {},
     "output_type": "display_data"
    },
    {
     "name": "stdout",
     "output_type": "stream",
     "text": [
      "{'type': 'Feature', 'geometry': None, 'id': '00000000000000000263', 'properties': {'codmpio': 5002, 'lossarea11': 0, 'year': 11}}\n"
     ]
    }
   ],
   "source": [
    "# Create a mask for the current year\n",
    "year = 11  # Replace with the desired year\n",
    "loss_year_mask = loss_year.eq(year)\n",
    "\n",
    "# Calculate the loss area for the current year in square meters\n",
    "loss_area_image = loss_year_mask.multiply(ee.Image.pixelArea())\n",
    "\n",
    "# Calculate the total loss area per municipality\n",
    "def calculate_loss_area(feature):\n",
    "    # Use reduceRegion to calculate the sum of the loss area within the feature's geometry\n",
    "    loss_area = loss_area_image.reduceRegion(\n",
    "        reducer=ee.Reducer.sum(),\n",
    "        geometry=feature.geometry(),\n",
    "        scale=30,\n",
    "        maxPixels=1e9\n",
    "    ).get('lossyear')  # Replace 'lossyear' with the correct property name if different\n",
    "    \n",
    "     # Dynamically name the loss area property\n",
    "    loss_area_property_name = f'lossarea{year}'\n",
    "\n",
    "    # Return a new feature with only the 'lossArea' and 'codmpio' properties\n",
    "    return ee.Feature(None, {\n",
    "        loss_area_property_name: loss_area,\n",
    "        'codmpio': feature.get('codmpio'),  # Ensure 'codmpio' exists in the original feature\n",
    "        'year': year  # Add the year as a property\n",
    "    })\n",
    "\n",
    "year_results = colombiaMpios.map(calculate_loss_area)\n",
    "\n",
    "print(year_results.first().getInfo())\n",
    "\n",
    "\n"
   ]
  },
  {
   "cell_type": "code",
   "execution_count": 42,
   "metadata": {},
   "outputs": [
    {
     "data": {
      "text/html": [
       "\n",
       "            <style>\n",
       "                .geemap-dark {\n",
       "                    --jp-widgets-color: white;\n",
       "                    --jp-widgets-label-color: white;\n",
       "                    --jp-ui-font-color1: white;\n",
       "                    --jp-layout-color2: #454545;\n",
       "                    background-color: #383838;\n",
       "                }\n",
       "\n",
       "                .geemap-dark .jupyter-button {\n",
       "                    --jp-layout-color3: #383838;\n",
       "                }\n",
       "\n",
       "                .geemap-colab {\n",
       "                    background-color: var(--colab-primary-surface-color, white);\n",
       "                }\n",
       "\n",
       "                .geemap-colab .jupyter-button {\n",
       "                    --jp-layout-color3: var(--colab-primary-surface-color, white);\n",
       "                }\n",
       "            </style>\n",
       "            "
      ],
      "text/plain": [
       "<IPython.core.display.HTML object>"
      ]
     },
     "metadata": {},
     "output_type": "display_data"
    },
    {
     "name": "stdout",
     "output_type": "stream",
     "text": [
      "   codmpio     lossarea11  year\n",
      "0     5002       0.000000    11\n",
      "1     5004   40580.973274    11\n",
      "2    50006   62420.537476    11\n",
      "3    27006  390131.367201    11\n",
      "4    41006  506806.025966    11\n"
     ]
    }
   ],
   "source": [
    "# Convert the FeatureCollection to a list of features\n",
    "features = year_results.getInfo()['features']\n",
    "\n",
    "# Extract properties from each feature\n",
    "data = [feature['properties'] for feature in features]\n",
    "\n",
    "# Create a Pandas DataFrame\n",
    "df = pd.DataFrame(data)\n",
    "\n",
    "# Display the first few rows of the DataFrame\n",
    "print(df.head())\n",
    "\n"
   ]
  },
  {
   "cell_type": "code",
   "execution_count": 44,
   "metadata": {},
   "outputs": [
    {
     "data": {
      "text/html": [
       "\n",
       "            <style>\n",
       "                .geemap-dark {\n",
       "                    --jp-widgets-color: white;\n",
       "                    --jp-widgets-label-color: white;\n",
       "                    --jp-ui-font-color1: white;\n",
       "                    --jp-layout-color2: #454545;\n",
       "                    background-color: #383838;\n",
       "                }\n",
       "\n",
       "                .geemap-dark .jupyter-button {\n",
       "                    --jp-layout-color3: #383838;\n",
       "                }\n",
       "\n",
       "                .geemap-colab {\n",
       "                    background-color: var(--colab-primary-surface-color, white);\n",
       "                }\n",
       "\n",
       "                .geemap-colab .jupyter-button {\n",
       "                    --jp-layout-color3: var(--colab-primary-surface-color, white);\n",
       "                }\n",
       "            </style>\n",
       "            "
      ],
      "text/plain": [
       "<IPython.core.display.HTML object>"
      ]
     },
     "metadata": {},
     "output_type": "display_data"
    },
    {
     "name": "stdout",
     "output_type": "stream",
     "text": [
      "      N          mean            sd  min         p50           max\n",
      "0  1120  647323.42655  5.368329e+06  0.0  1773.97818  1.063543e+08\n"
     ]
    }
   ],
   "source": [
    "# Calculate basic statistics\n",
    "summary_stats = {\n",
    "    'N': len(df),  # Number of observations\n",
    "    'mean': df['lossarea11'].mean(),  # Mean\n",
    "    'sd': df['lossarea11'].std(),  # Standard deviation\n",
    "    'min': df['lossarea11'].min(),  # Minimum\n",
    "    'p50': df['lossarea11'].median(),  # Median (50th percentile)\n",
    "    'max': df['lossarea11'].max()  # Maximum\n",
    "}\n",
    "\n",
    "# Convert to a DataFrame for better visualization\n",
    "summ_df = pd.DataFrame(summary_stats, index=[0])\n",
    "\n",
    "# Display the summary statistics\n",
    "print(summ_df)"
   ]
  }
 ],
 "metadata": {
  "kernelspec": {
   "display_name": "geo",
   "language": "python",
   "name": "python3"
  },
  "language_info": {
   "codemirror_mode": {
    "name": "ipython",
    "version": 3
   },
   "file_extension": ".py",
   "mimetype": "text/x-python",
   "name": "python",
   "nbconvert_exporter": "python",
   "pygments_lexer": "ipython3",
   "version": "3.9.20"
  }
 },
 "nbformat": 4,
 "nbformat_minor": 2
}
