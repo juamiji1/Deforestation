{
 "cells": [
  {
   "cell_type": "markdown",
   "metadata": {},
   "source": [
    "# Calculating Forest Loss (using Hansen)"
   ]
  },
  {
   "cell_type": "code",
   "execution_count": 1,
   "metadata": {},
   "outputs": [],
   "source": [
    "import os\n",
    "import ee\n",
    "import geemap \n",
    "\n",
    "#ee.Authenticate()\n",
    "ee.Initialize()"
   ]
  },
  {
   "cell_type": "markdown",
   "metadata": {},
   "source": [
    "## Loading & Clipping Imagery"
   ]
  },
  {
   "cell_type": "code",
   "execution_count": null,
   "metadata": {},
   "outputs": [],
   "source": [
    "# Define the bounding box of Colombia (using a shapefile uploaded to the assets folder)\n",
    "colombiaMpios = ee.FeatureCollection('projects/ee-juamiji/assets/Muni')\n",
    "\n",
    "# Import the Forest loss image\n",
    "flossHansen = ee.Image(\"UMD/hansen/global_forest_change_2023_v1_11\")\n",
    "\n",
    "# Import the Primary Tropical Forest cover image collection and filter it for Colombia\n",
    "primaryForest_hansen = ee.ImageCollection(\"UMD/GLAD/PRIMARY_HUMID_TROPICAL_FORESTS/v1\").mosaic().selfMask()\n",
    "primaryForest_hansen_COL = primaryForest_hansen.clip(colombiaMpios)\n",
    "\n",
    "# Clip the Forest loss image to Colombia's boundaries\n",
    "flossHansen_COL = flossHansen.clip(colombiaMpios)\n",
    "\n",
    "# Visualization parameters for the map\n",
    "# viz_params = {\n",
    "#     'min':1,  # Minimum value for visualization\n",
    "#     'max': 1,  # Maximum value for visualization\n",
    "#     'palette': ['008000']  # Color gradient\n",
    "# }\n",
    "\n",
    "# Initialize the map using geemap\n",
    "# Map = geemap.Map(center=[4.0, -72.0], zoom=5)  # Center roughly in Colombia with an appropriate zoom level\n",
    "# Map.addLayer(primaryForest_hansen_COL, viz_params, \"Primary Tropical Forests\")\n",
    "# Map\n"
   ]
  },
  {
   "cell_type": "code",
   "execution_count": null,
   "metadata": {},
   "outputs": [],
   "source": [
    "# Create a mask where fcover is equal to 1.\n",
    "primaryMask = primaryForest_hansen_COL.eq(1)\n",
    "\n",
    "# Masking the floss imagery using the primary mask (cover equals 1)\n",
    "flossHansen_COLmasked = flossHansen_COL.updateMask(primaryMask)\n",
    "\n",
    "# Select the 'lossyear' band from the masked forest loss image\n",
    "loss_year = flossHansen_COLmasked.select(['lossyear'])\n",
    "\n",
    "# # Visualization parameters\n",
    "# primary_forest_viz = {\n",
    "#     'min': 1,\n",
    "#     'max': 1,\n",
    "#     'palette': ['green']  # Primary forest is displayed in green\n",
    "# }\n",
    "\n",
    "# loss_year_viz = {\n",
    "#     'min': 1,\n",
    "#      'max': 1,\n",
    "#   'palette': ['red']\n",
    "# }\n",
    "\n",
    "# # Initialize the map using geemap\n",
    "# Map = geemap.Map(center=[4.0, -72.0], zoom=6)  # Center roughly in Colombia\n",
    "\n",
    "# # Add the Primary Tropical Forests layer\n",
    "# Map.addLayer(primaryForest_hansen_COL, primary_forest_viz, \"Primary Tropical Forests\")\n",
    "\n",
    "# # Add the Forest Loss for the specified year layer\n",
    "# Map.addLayer(modified_loss_year, loss_year_viz, f\"Forest Loss {year}\")\n",
    "\n",
    "# # Display the map\n",
    "# Map"
   ]
  },
  {
   "cell_type": "code",
   "execution_count": null,
   "metadata": {},
   "outputs": [],
   "source": [
    "# Create a mask for the current year\n",
    "year = 2009  # Replace with the desired year\n",
    "loss_year_mask = loss_year.eq(year)\n",
    "modified_loss_year = loss_year_mask.where(loss_year_mask.eq(year), 1)\n",
    "\n",
    "# Calculate the loss area for the current year in square meters\n",
    "loss_area_image = modified_loss_year.multiply(ee.Image.pixelArea())\n",
    "\n",
    "# Calculate the mean elevation for each country\n",
    "totalLoss_area = loss_area_image.reduceRegions(\n",
    "    collection=colombiaMpios,  # The Mpio FeatureCollection\n",
    "    reducer=ee.Reducer.sum(),  # Use the sum reducer\n",
    "    scale=30 \n",
    ")\n",
    "\n",
    "# Display the first few rows of the DataFrame\n",
    "#print(totalLoss_area.getInfo())"
   ]
  }
 ],
 "metadata": {
  "kernelspec": {
   "display_name": "geo",
   "language": "python",
   "name": "python3"
  },
  "language_info": {
   "codemirror_mode": {
    "name": "ipython",
    "version": 3
   },
   "file_extension": ".py",
   "mimetype": "text/x-python",
   "name": "python",
   "nbconvert_exporter": "python",
   "pygments_lexer": "ipython3",
   "version": "3.9.20"
  }
 },
 "nbformat": 4,
 "nbformat_minor": 2
}
