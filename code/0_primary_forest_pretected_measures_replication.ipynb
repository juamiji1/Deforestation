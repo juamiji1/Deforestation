{
 "cells": [
  {
   "cell_type": "markdown",
   "id": "a1c6d2a2",
   "metadata": {},
   "source": [
    "# Calculating Primary Forest in Protected Areas (Hansen) "
   ]
  },
  {
   "cell_type": "code",
   "execution_count": 5,
   "id": "756d1b71",
   "metadata": {},
   "outputs": [
    {
     "data": {
      "text/html": [
       "\n",
       "            <style>\n",
       "                .geemap-dark {\n",
       "                    --jp-widgets-color: white;\n",
       "                    --jp-widgets-label-color: white;\n",
       "                    --jp-ui-font-color1: white;\n",
       "                    --jp-layout-color2: #454545;\n",
       "                    background-color: #383838;\n",
       "                }\n",
       "\n",
       "                .geemap-dark .jupyter-button {\n",
       "                    --jp-layout-color3: #383838;\n",
       "                }\n",
       "\n",
       "                .geemap-colab {\n",
       "                    background-color: var(--colab-primary-surface-color, white);\n",
       "                }\n",
       "\n",
       "                .geemap-colab .jupyter-button {\n",
       "                    --jp-layout-color3: var(--colab-primary-surface-color, white);\n",
       "                }\n",
       "            </style>\n",
       "            "
      ],
      "text/plain": [
       "<IPython.core.display.HTML object>"
      ]
     },
     "metadata": {},
     "output_type": "display_data"
    }
   ],
   "source": [
    "import os\n",
    "import ee\n",
    "import geemap \n",
    "import pandas as pd\n",
    "\n",
    "#ee.Authenticate()\n",
    "ee.Initialize()"
   ]
  },
  {
   "cell_type": "code",
   "execution_count": 6,
   "id": "7ae36c5d",
   "metadata": {},
   "outputs": [
    {
     "data": {
      "text/html": [
       "\n",
       "            <style>\n",
       "                .geemap-dark {\n",
       "                    --jp-widgets-color: white;\n",
       "                    --jp-widgets-label-color: white;\n",
       "                    --jp-ui-font-color1: white;\n",
       "                    --jp-layout-color2: #454545;\n",
       "                    background-color: #383838;\n",
       "                }\n",
       "\n",
       "                .geemap-dark .jupyter-button {\n",
       "                    --jp-layout-color3: #383838;\n",
       "                }\n",
       "\n",
       "                .geemap-colab {\n",
       "                    background-color: var(--colab-primary-surface-color, white);\n",
       "                }\n",
       "\n",
       "                .geemap-colab .jupyter-button {\n",
       "                    --jp-layout-color3: var(--colab-primary-surface-color, white);\n",
       "                }\n",
       "            </style>\n",
       "            "
      ],
      "text/plain": [
       "<IPython.core.display.HTML object>"
      ]
     },
     "metadata": {},
     "output_type": "display_data"
    }
   ],
   "source": [
    "# Define the bounding box of Colombia (using a shapefile uploaded to the assets folder)\n",
    "colombiaMpios = ee.FeatureCollection('projects/ee-juamiji/assets/muni_runapf')\n",
    "\n",
    "# Import the Primary Tropical Forest cover image collection and filter it for Colombia\n",
    "primaryForest_hansen = ee.ImageCollection(\"UMD/GLAD/PRIMARY_HUMID_TROPICAL_FORESTS/v1\").mosaic().selfMask()\n",
    "primaryForest_hansen_COL = primaryForest_hansen.clip(colombiaMpios)"
   ]
  },
  {
   "cell_type": "code",
   "execution_count": 7,
   "id": "2603db5b",
   "metadata": {},
   "outputs": [
    {
     "data": {
      "text/html": [
       "\n",
       "            <style>\n",
       "                .geemap-dark {\n",
       "                    --jp-widgets-color: white;\n",
       "                    --jp-widgets-label-color: white;\n",
       "                    --jp-ui-font-color1: white;\n",
       "                    --jp-layout-color2: #454545;\n",
       "                    background-color: #383838;\n",
       "                }\n",
       "\n",
       "                .geemap-dark .jupyter-button {\n",
       "                    --jp-layout-color3: #383838;\n",
       "                }\n",
       "\n",
       "                .geemap-colab {\n",
       "                    background-color: var(--colab-primary-surface-color, white);\n",
       "                }\n",
       "\n",
       "                .geemap-colab .jupyter-button {\n",
       "                    --jp-layout-color3: var(--colab-primary-surface-color, white);\n",
       "                }\n",
       "            </style>\n",
       "            "
      ],
      "text/plain": [
       "<IPython.core.display.HTML object>"
      ]
     },
     "metadata": {},
     "output_type": "display_data"
    }
   ],
   "source": [
    "# Rename 'Municipi_5' to 'codmpio' for all features in the FeatureCollection\n",
    "def rename_property(feature):\n",
    "\treturn feature.set('codmpio', feature.get('Municipi_5'))\n",
    "\n",
    "colombiaMpios = colombiaMpios.map(rename_property)\n",
    "# Rename 'Municipi_5' to 'codmpio' for all features in the FeatureCollection\n",
    "def rename_property(feature):\n",
    "\treturn feature.set('codmpio', feature.get('Municipi_5'))\n",
    "\n",
    "colombiaMpios = colombiaMpios.map(rename_property)"
   ]
  },
  {
   "cell_type": "code",
   "execution_count": 8,
   "id": "b78db624",
   "metadata": {},
   "outputs": [
    {
     "data": {
      "text/html": [
       "\n",
       "            <style>\n",
       "                .geemap-dark {\n",
       "                    --jp-widgets-color: white;\n",
       "                    --jp-widgets-label-color: white;\n",
       "                    --jp-ui-font-color1: white;\n",
       "                    --jp-layout-color2: #454545;\n",
       "                    background-color: #383838;\n",
       "                }\n",
       "\n",
       "                .geemap-dark .jupyter-button {\n",
       "                    --jp-layout-color3: #383838;\n",
       "                }\n",
       "\n",
       "                .geemap-colab {\n",
       "                    background-color: var(--colab-primary-surface-color, white);\n",
       "                }\n",
       "\n",
       "                .geemap-colab .jupyter-button {\n",
       "                    --jp-layout-color3: var(--colab-primary-surface-color, white);\n",
       "                }\n",
       "            </style>\n",
       "            "
      ],
      "text/plain": [
       "<IPython.core.display.HTML object>"
      ]
     },
     "metadata": {},
     "output_type": "display_data"
    },
    {
     "name": "stdout",
     "output_type": "stream",
     "text": [
      "{'type': 'Feature', 'geometry': None, 'id': '00000000000000000202', 'properties': {'codmpio': 5360, 'primary_forest01': 0}}\n"
     ]
    }
   ],
   "source": [
    "# Calculate the loss area for the current year in square meters\n",
    "def calculate_primary_forest_area(feature):\n",
    "\n",
    "    primary_area_COL = primaryForest_hansen_COL.multiply(ee.Image.pixelArea())\n",
    "\n",
    "    # Use reduceRegion to calculate the sum of the loss area within the feature's geometry\n",
    "    primaryforest_area = primary_area_COL.reduceRegion(\n",
    "        reducer=ee.Reducer.sum(),\n",
    "        geometry=feature.geometry(),\n",
    "        scale=30,\n",
    "        maxPixels=1e9\n",
    "    ).get('Primary_HT_forests') \n",
    "\n",
    "    # Return a new feature with only the 'lossArea' and 'codmpio' properties\n",
    "    return ee.Feature(None, {\n",
    "        'primary_forest01': primaryforest_area,\n",
    "        'codmpio': feature.get('codmpio'),  # Ensure 'codmpio' exists in the original feature\n",
    "    })\n",
    "\n",
    "# Dictionary to store results for each year\n",
    "results_dict = {}\n",
    "\n",
    "# Use a lambda function to pass the current year into the map function\n",
    "primaryforest_area01 = colombiaMpios.map(lambda feature: calculate_primary_forest_area(feature))\n",
    "results_dict['primary_forest01'] = primaryforest_area01\n",
    "\n",
    "# Optionally print the first feature's info to check\n",
    "print(results_dict[f'primary_forest01'].first().getInfo())"
   ]
  },
  {
   "cell_type": "code",
   "execution_count": null,
   "id": "fca1ad8e",
   "metadata": {},
   "outputs": [
    {
     "data": {
      "text/html": [
       "\n",
       "            <style>\n",
       "                .geemap-dark {\n",
       "                    --jp-widgets-color: white;\n",
       "                    --jp-widgets-label-color: white;\n",
       "                    --jp-ui-font-color1: white;\n",
       "                    --jp-layout-color2: #454545;\n",
       "                    background-color: #383838;\n",
       "                }\n",
       "\n",
       "                .geemap-dark .jupyter-button {\n",
       "                    --jp-layout-color3: #383838;\n",
       "                }\n",
       "\n",
       "                .geemap-colab {\n",
       "                    background-color: var(--colab-primary-surface-color, white);\n",
       "                }\n",
       "\n",
       "                .geemap-colab .jupyter-button {\n",
       "                    --jp-layout-color3: var(--colab-primary-surface-color, white);\n",
       "                }\n",
       "            </style>\n",
       "            "
      ],
      "text/plain": [
       "<IPython.core.display.HTML object>"
      ]
     },
     "metadata": {},
     "output_type": "display_data"
    },
    {
     "name": "stdout",
     "output_type": "stream",
     "text": [
      "Exporting Primary_Forest_pa_2001 to Google Drive...\n"
     ]
    }
   ],
   "source": [
    "# Set description\n",
    "description_file = 'Primary_Forest_PA2001'\n",
    "\n",
    "# Export the FeatureCollection to Google Drive\n",
    "export_task = ee.batch.Export.table.toDrive(\n",
    "    collection=results_dict['primary_forest01'],\n",
    "    description=description_file,\n",
    "    folder=\"EarthEngineExports\",\n",
    "    fileFormat='CSV'\n",
    ")\n",
    "\n",
    "# Start the export task\n",
    "export_task.start()\n",
    "print(f\"Exporting {description_file} to Google Drive...\")"
   ]
  }
 ],
 "metadata": {
  "kernelspec": {
   "display_name": "geo",
   "language": "python",
   "name": "python3"
  },
  "language_info": {
   "codemirror_mode": {
    "name": "ipython",
    "version": 3
   },
   "file_extension": ".py",
   "mimetype": "text/x-python",
   "name": "python",
   "nbconvert_exporter": "python",
   "pygments_lexer": "ipython3",
   "version": "3.9.20"
  }
 },
 "nbformat": 4,
 "nbformat_minor": 5
}
