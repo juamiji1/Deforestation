{
 "cells": [
  {
   "cell_type": "code",
   "execution_count": 29,
   "id": "2bfaa81f",
   "metadata": {},
   "outputs": [],
   "source": [
    "import os\n",
    "import matplotlib.pyplot as plt\n",
    "import geopandas as gpd\n",
    "import pandas as pd\n",
    "import numpy as np\n",
    "import matplotlib.colors as mcolors\n",
    "import mapclassify\n",
    "from matplotlib.patches import Patch\n",
    "from pathlib import Path\n",
    "from rapidfuzz import process, fuzz\n",
    "from shapely.geometry import Point\n",
    "import rasterio\n",
    "from rasterio.plot import show\n",
    "from rasterstats import zonal_stats\n",
    "from rasterio.mask import mask\n"
   ]
  },
  {
   "cell_type": "code",
   "execution_count": 30,
   "id": "684e13af",
   "metadata": {},
   "outputs": [],
   "source": [
    "# Set base project path\n",
    "base_path = Path(\"C:/Users/juami/Dropbox/My-Research/Deforestation/data\")\n",
    "\n",
    "# Set file paths\n",
    "muni_path = base_path / \"Gis\" / \"Colombia\" / \"Municipios.shp\"\n",
    "bii_path = base_path / \"BII\"\n",
    "\n",
    "export_path = base_path / \"BII\""
   ]
  },
  {
   "cell_type": "code",
   "execution_count": 31,
   "id": "583aeaa4",
   "metadata": {},
   "outputs": [],
   "source": [
    "# Read the shapefiles and CSV files\n",
    "muniShape = gpd.read_file(muni_path)\n",
    "\n",
    "# Read the first band\n",
    "bii00 = rasterio.open(bii_path / \"bii-2000_v2-1-1.tif\")\n",
    "bii05 = rasterio.open(bii_path / \"bii-2005_v2-1-1.tif\")\n",
    "bii10 = rasterio.open(bii_path / \"bii-2010_v2-1-1.tif\")\n",
    "bii15 = rasterio.open(bii_path / \"bii-2015_v2-1-1.tif\")\n",
    "bii20 = rasterio.open(bii_path / \"bii-2020_v2-1-1.tif\")\n",
    "\n",
    "# Reproject shapefile to match raster CRS CRS\n",
    "muniShape = muniShape.to_crs(bii00.crs)"
   ]
  },
  {
   "cell_type": "code",
   "execution_count": 32,
   "id": "47296a82",
   "metadata": {},
   "outputs": [
    {
     "name": "stdout",
     "output_type": "stream",
     "text": [
      "Exported muni_bii_2000.csv\n",
      "Exported muni_bii_2005.csv\n",
      "Exported muni_bii_2010.csv\n",
      "Exported muni_bii_2015.csv\n",
      "Exported muni_bii_2020.csv\n"
     ]
    }
   ],
   "source": [
    "# Dictionary of rasters and their corresponding years\n",
    "rasters = {\n",
    "    2000: bii00,\n",
    "    2005: bii05,\n",
    "    2010: bii10,\n",
    "    2015: bii15,\n",
    "    2020: bii20\n",
    "}\n",
    "\n",
    "# Loop through rasters and process\n",
    "for year, raster in rasters.items():\n",
    "\n",
    "    # Crop raster to shapefile\n",
    "    cropped_data, cropped_transform = mask(raster, muniShape.geometry, crop=True)\n",
    "\n",
    "    # Compute zonal statistics (mean within each polygon)\n",
    "    stats = zonal_stats(muniShape, cropped_data[0], affine=cropped_transform, stats=[\"mean\"], geojson_out=True)\n",
    "\n",
    "    # Convert to GeoDataFrame and process columns\n",
    "    gdf_bii = gpd.GeoDataFrame.from_features(stats)\n",
    "    gdf_bii.rename(columns={\"mean\": \"bii\"}, inplace=True)\n",
    "    gdf_bii.rename(columns={\"IDDANE\": \"coddane\"}, inplace=True)\n",
    "    gdf_bii[\"year\"] = year\n",
    "\n",
    "    # Keep only relevant columns\n",
    "    gdf_bii = gdf_bii[[\"coddane\", \"bii\", \"year\"]]\n",
    "\n",
    "    # Export to CSV\n",
    "    gdf_bii.to_csv(export_path / f\"muni_bii_{year}.csv\", index=False)\n",
    "\n",
    "    print(f\"Exported muni_bii_{year}.csv\")\n"
   ]
  }
 ],
 "metadata": {
  "kernelspec": {
   "display_name": "geo",
   "language": "python",
   "name": "python3"
  },
  "language_info": {
   "codemirror_mode": {
    "name": "ipython",
    "version": 3
   },
   "file_extension": ".py",
   "mimetype": "text/x-python",
   "name": "python",
   "nbconvert_exporter": "python",
   "pygments_lexer": "ipython3",
   "version": "3.9.20"
  }
 },
 "nbformat": 4,
 "nbformat_minor": 5
}
