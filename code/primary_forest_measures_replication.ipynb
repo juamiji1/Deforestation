{
 "cells": [
  {
   "cell_type": "markdown",
   "metadata": {},
   "source": [
    "# Calculating Primary Forest (Hansen) "
   ]
  },
  {
   "cell_type": "code",
   "execution_count": 17,
   "metadata": {},
   "outputs": [
    {
     "data": {
      "text/html": [
       "\n",
       "            <style>\n",
       "                .geemap-dark {\n",
       "                    --jp-widgets-color: white;\n",
       "                    --jp-widgets-label-color: white;\n",
       "                    --jp-ui-font-color1: white;\n",
       "                    --jp-layout-color2: #454545;\n",
       "                    background-color: #383838;\n",
       "                }\n",
       "\n",
       "                .geemap-dark .jupyter-button {\n",
       "                    --jp-layout-color3: #383838;\n",
       "                }\n",
       "\n",
       "                .geemap-colab {\n",
       "                    background-color: var(--colab-primary-surface-color, white);\n",
       "                }\n",
       "\n",
       "                .geemap-colab .jupyter-button {\n",
       "                    --jp-layout-color3: var(--colab-primary-surface-color, white);\n",
       "                }\n",
       "            </style>\n",
       "            "
      ],
      "text/plain": [
       "<IPython.core.display.HTML object>"
      ]
     },
     "metadata": {},
     "output_type": "display_data"
    }
   ],
   "source": [
    "import os\n",
    "import ee\n",
    "import geemap \n",
    "import pandas as pd\n",
    "\n",
    "#ee.Authenticate()\n",
    "ee.Initialize()"
   ]
  },
  {
   "cell_type": "markdown",
   "metadata": {},
   "source": [
    "## Loading & Clipping Imagery"
   ]
  },
  {
   "cell_type": "code",
   "execution_count": 18,
   "metadata": {},
   "outputs": [
    {
     "data": {
      "text/html": [
       "\n",
       "            <style>\n",
       "                .geemap-dark {\n",
       "                    --jp-widgets-color: white;\n",
       "                    --jp-widgets-label-color: white;\n",
       "                    --jp-ui-font-color1: white;\n",
       "                    --jp-layout-color2: #454545;\n",
       "                    background-color: #383838;\n",
       "                }\n",
       "\n",
       "                .geemap-dark .jupyter-button {\n",
       "                    --jp-layout-color3: #383838;\n",
       "                }\n",
       "\n",
       "                .geemap-colab {\n",
       "                    background-color: var(--colab-primary-surface-color, white);\n",
       "                }\n",
       "\n",
       "                .geemap-colab .jupyter-button {\n",
       "                    --jp-layout-color3: var(--colab-primary-surface-color, white);\n",
       "                }\n",
       "            </style>\n",
       "            "
      ],
      "text/plain": [
       "<IPython.core.display.HTML object>"
      ]
     },
     "metadata": {},
     "output_type": "display_data"
    }
   ],
   "source": [
    "# Define the bounding box of Colombia (using a shapefile uploaded to the assets folder)\n",
    "colombiaMpios = ee.FeatureCollection('projects/ee-juamiji/assets/Muni')\n",
    "\n",
    "# Import the Primary Tropical Forest cover image collection and filter it for Colombia\n",
    "primaryForest_hansen = ee.ImageCollection(\"UMD/GLAD/PRIMARY_HUMID_TROPICAL_FORESTS/v1\").mosaic().selfMask()\n",
    "primaryForest_hansen_COL = primaryForest_hansen.clip(colombiaMpios)"
   ]
  },
  {
   "cell_type": "markdown",
   "metadata": {},
   "source": [
    "## Calculating Primary Forest Cover"
   ]
  },
  {
   "cell_type": "code",
   "execution_count": 19,
   "metadata": {},
   "outputs": [
    {
     "data": {
      "text/html": [
       "\n",
       "            <style>\n",
       "                .geemap-dark {\n",
       "                    --jp-widgets-color: white;\n",
       "                    --jp-widgets-label-color: white;\n",
       "                    --jp-ui-font-color1: white;\n",
       "                    --jp-layout-color2: #454545;\n",
       "                    background-color: #383838;\n",
       "                }\n",
       "\n",
       "                .geemap-dark .jupyter-button {\n",
       "                    --jp-layout-color3: #383838;\n",
       "                }\n",
       "\n",
       "                .geemap-colab {\n",
       "                    background-color: var(--colab-primary-surface-color, white);\n",
       "                }\n",
       "\n",
       "                .geemap-colab .jupyter-button {\n",
       "                    --jp-layout-color3: var(--colab-primary-surface-color, white);\n",
       "                }\n",
       "            </style>\n",
       "            "
      ],
      "text/plain": [
       "<IPython.core.display.HTML object>"
      ]
     },
     "metadata": {},
     "output_type": "display_data"
    },
    {
     "name": "stdout",
     "output_type": "stream",
     "text": [
      "{'type': 'Feature', 'geometry': None, 'id': '00000000000000000263', 'properties': {'codmpio': 5002, 'primary_forest01': 7743769.995038681}}\n"
     ]
    }
   ],
   "source": [
    "# Calculate the loss area for the current year in square meters\n",
    "def calculate_primary_forest_area(feature):\n",
    "\n",
    "    primary_area_COL = primaryForest_hansen_COL.multiply(ee.Image.pixelArea())\n",
    "\n",
    "    # Use reduceRegion to calculate the sum of the loss area within the feature's geometry\n",
    "    primaryforest_area = primary_area_COL.reduceRegion(\n",
    "        reducer=ee.Reducer.sum(),\n",
    "        geometry=feature.geometry(),\n",
    "        scale=30,\n",
    "        maxPixels=1e9\n",
    "    ).get('Primary_HT_forests') \n",
    "\n",
    "    # Return a new feature with only the 'lossArea' and 'codmpio' properties\n",
    "    return ee.Feature(None, {\n",
    "        'primary_forest01': primaryforest_area,\n",
    "        'codmpio': feature.get('codmpio'),  # Ensure 'codmpio' exists in the original feature\n",
    "    })\n",
    "\n",
    "# Dictionary to store results for each year\n",
    "results_dict = {}\n",
    "\n",
    "# Use a lambda function to pass the current year into the map function\n",
    "primaryforest_area01 = colombiaMpios.map(lambda feature: calculate_primary_forest_area(feature))\n",
    "results_dict['primary_forest01'] = primaryforest_area01\n",
    "\n",
    "# Optionally print the first feature's info to check\n",
    "print(results_dict[f'primary_forest01'].first().getInfo())\n"
   ]
  },
  {
   "cell_type": "markdown",
   "metadata": {},
   "source": [
    "## Exporting to Google Drive"
   ]
  },
  {
   "cell_type": "code",
   "execution_count": 21,
   "metadata": {},
   "outputs": [
    {
     "data": {
      "text/html": [
       "\n",
       "            <style>\n",
       "                .geemap-dark {\n",
       "                    --jp-widgets-color: white;\n",
       "                    --jp-widgets-label-color: white;\n",
       "                    --jp-ui-font-color1: white;\n",
       "                    --jp-layout-color2: #454545;\n",
       "                    background-color: #383838;\n",
       "                }\n",
       "\n",
       "                .geemap-dark .jupyter-button {\n",
       "                    --jp-layout-color3: #383838;\n",
       "                }\n",
       "\n",
       "                .geemap-colab {\n",
       "                    background-color: var(--colab-primary-surface-color, white);\n",
       "                }\n",
       "\n",
       "                .geemap-colab .jupyter-button {\n",
       "                    --jp-layout-color3: var(--colab-primary-surface-color, white);\n",
       "                }\n",
       "            </style>\n",
       "            "
      ],
      "text/plain": [
       "<IPython.core.display.HTML object>"
      ]
     },
     "metadata": {},
     "output_type": "display_data"
    },
    {
     "name": "stdout",
     "output_type": "stream",
     "text": [
      "Exporting Primary_Forest_2001 to Google Drive...\n"
     ]
    }
   ],
   "source": [
    "# Set description\n",
    "description_file = 'Primary_Forest_2001'\n",
    "\n",
    "# Export the FeatureCollection to Google Drive\n",
    "export_task = ee.batch.Export.table.toDrive(\n",
    "    collection=results_dict['primary_forest01'],\n",
    "    description=description_file,\n",
    "    folder=\"EarthEngineExports\",\n",
    "    fileFormat='CSV'\n",
    ")\n",
    "\n",
    "# Start the export task\n",
    "export_task.start()\n",
    "print(f\"Exporting {description_file} to Google Drive...\")"
   ]
  }
 ],
 "metadata": {
  "kernelspec": {
   "display_name": "geo",
   "language": "python",
   "name": "python3"
  },
  "language_info": {
   "codemirror_mode": {
    "name": "ipython",
    "version": 3
   },
   "file_extension": ".py",
   "mimetype": "text/x-python",
   "name": "python",
   "nbconvert_exporter": "python",
   "pygments_lexer": "ipython3",
   "version": "3.9.20"
  }
 },
 "nbformat": 4,
 "nbformat_minor": 2
}
