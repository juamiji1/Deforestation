{
 "cells": [
  {
   "cell_type": "markdown",
   "id": "075134e0",
   "metadata": {},
   "source": [
    "# Calculating Land use change"
   ]
  },
  {
   "cell_type": "code",
   "execution_count": 2,
   "id": "4a32650f",
   "metadata": {},
   "outputs": [
    {
     "data": {
      "text/html": [
       "\n",
       "            <style>\n",
       "                .geemap-dark {\n",
       "                    --jp-widgets-color: white;\n",
       "                    --jp-widgets-label-color: white;\n",
       "                    --jp-ui-font-color1: white;\n",
       "                    --jp-layout-color2: #454545;\n",
       "                    background-color: #383838;\n",
       "                }\n",
       "\n",
       "                .geemap-dark .jupyter-button {\n",
       "                    --jp-layout-color3: #383838;\n",
       "                }\n",
       "\n",
       "                .geemap-colab {\n",
       "                    background-color: var(--colab-primary-surface-color, white);\n",
       "                }\n",
       "\n",
       "                .geemap-colab .jupyter-button {\n",
       "                    --jp-layout-color3: var(--colab-primary-surface-color, white);\n",
       "                }\n",
       "            </style>\n",
       "            "
      ],
      "text/plain": [
       "<IPython.core.display.HTML object>"
      ]
     },
     "metadata": {},
     "output_type": "display_data"
    }
   ],
   "source": [
    "import os\n",
    "import ee\n",
    "import geemap \n",
    "import pandas as pd\n",
    "\n",
    "#ee.Authenticate()\n",
    "ee.Initialize()"
   ]
  },
  {
   "cell_type": "code",
   "execution_count": 3,
   "id": "1edd6940",
   "metadata": {},
   "outputs": [
    {
     "data": {
      "text/html": [
       "\n",
       "            <style>\n",
       "                .geemap-dark {\n",
       "                    --jp-widgets-color: white;\n",
       "                    --jp-widgets-label-color: white;\n",
       "                    --jp-ui-font-color1: white;\n",
       "                    --jp-layout-color2: #454545;\n",
       "                    background-color: #383838;\n",
       "                }\n",
       "\n",
       "                .geemap-dark .jupyter-button {\n",
       "                    --jp-layout-color3: #383838;\n",
       "                }\n",
       "\n",
       "                .geemap-colab {\n",
       "                    background-color: var(--colab-primary-surface-color, white);\n",
       "                }\n",
       "\n",
       "                .geemap-colab .jupyter-button {\n",
       "                    --jp-layout-color3: var(--colab-primary-surface-color, white);\n",
       "                }\n",
       "            </style>\n",
       "            "
      ],
      "text/plain": [
       "<IPython.core.display.HTML object>"
      ]
     },
     "metadata": {},
     "output_type": "display_data"
    }
   ],
   "source": [
    "# Define the bounding box of Colombia (using a shapefile uploaded to the assets folder)\n",
    "colombiaMpios = ee.FeatureCollection('projects/ee-juamiji/assets/Muni')\n",
    "\n",
    "# Load image collections\n",
    "dynamicWorld = ee.ImageCollection(\"GOOGLE/DYNAMICWORLD/V1\")\n",
    "landsat= ee.ImageCollection(\"LANDSAT/LC08/C02/T1_L2\")\n",
    "\n",
    "# Function to clip each image\n",
    "def clip_to_colombia(image):\n",
    "    return image.clip(colombiaMpios)\n",
    "\n",
    "# Apply the clip function to each image in the collections\n",
    "dynamicWorld_COL = dynamicWorld.map(clip_to_colombia)\n",
    "landsat_COL = landsat.map(clip_to_colombia)\n",
    "\n",
    "# Import the Forest loss image\n",
    "flossHansen = ee.Image(\"UMD/hansen/global_forest_change_2023_v1_11\")\n",
    "\n",
    "# Import the Primary Tropical Forest cover image collection and filter it for Colombia\n",
    "primaryForest_ideam = ee.Image(\"projects/ee-juamiji/assets/SouthAmerica_2001_primary\").selfMask()\n",
    "primaryForest_ideam_COL = primaryForest_ideam.clip(colombiaMpios)\n",
    "\n",
    "# Clip the Forest loss image to Colombia's boundaries\n",
    "flossHansen_COL = flossHansen.clip(colombiaMpios)"
   ]
  },
  {
   "cell_type": "code",
   "execution_count": 4,
   "id": "0a141d6f",
   "metadata": {},
   "outputs": [
    {
     "data": {
      "text/html": [
       "\n",
       "            <style>\n",
       "                .geemap-dark {\n",
       "                    --jp-widgets-color: white;\n",
       "                    --jp-widgets-label-color: white;\n",
       "                    --jp-ui-font-color1: white;\n",
       "                    --jp-layout-color2: #454545;\n",
       "                    background-color: #383838;\n",
       "                }\n",
       "\n",
       "                .geemap-dark .jupyter-button {\n",
       "                    --jp-layout-color3: #383838;\n",
       "                }\n",
       "\n",
       "                .geemap-colab {\n",
       "                    background-color: var(--colab-primary-surface-color, white);\n",
       "                }\n",
       "\n",
       "                .geemap-colab .jupyter-button {\n",
       "                    --jp-layout-color3: var(--colab-primary-surface-color, white);\n",
       "                }\n",
       "            </style>\n",
       "            "
      ],
      "text/plain": [
       "<IPython.core.display.HTML object>"
      ]
     },
     "metadata": {},
     "output_type": "display_data"
    }
   ],
   "source": [
    "# Create a mask where fcover is equal to 1.\n",
    "primaryMask = primaryForest_ideam_COL.eq(1)\n",
    "\n",
    "# Masking the floss imagery using the primary mask (cover equals 1)\n",
    "flossHansen_COLmasked = flossHansen_COL.updateMask(primaryMask)\n",
    "\n",
    "# Select the 'lossyear' band from the masked forest loss image\n",
    "loss_year = flossHansen_COLmasked.select(['lossyear'])"
   ]
  },
  {
   "cell_type": "code",
   "execution_count": null,
   "id": "e64b52b6",
   "metadata": {},
   "outputs": [
    {
     "data": {
      "text/html": [
       "\n",
       "            <style>\n",
       "                .geemap-dark {\n",
       "                    --jp-widgets-color: white;\n",
       "                    --jp-widgets-label-color: white;\n",
       "                    --jp-ui-font-color1: white;\n",
       "                    --jp-layout-color2: #454545;\n",
       "                    background-color: #383838;\n",
       "                }\n",
       "\n",
       "                .geemap-dark .jupyter-button {\n",
       "                    --jp-layout-color3: #383838;\n",
       "                }\n",
       "\n",
       "                .geemap-colab {\n",
       "                    background-color: var(--colab-primary-surface-color, white);\n",
       "                }\n",
       "\n",
       "                .geemap-colab .jupyter-button {\n",
       "                    --jp-layout-color3: var(--colab-primary-surface-color, white);\n",
       "                }\n",
       "            </style>\n",
       "            "
      ],
      "text/plain": [
       "<IPython.core.display.HTML object>"
      ]
     },
     "metadata": {},
     "output_type": "display_data"
    }
   ],
   "source": [
    "year=2015\n",
    "\n",
    "#Selecting year of interest\n",
    "dynamicWorld_year = dynamicWorld_COL.filterDate(f'{year}-01-01', f'{year}-12-31').max()\n",
    "\n",
    "loss_year_mask = loss_year.eq(year)\n",
    "\n",
    "#Masking the dynamicWorld image using the loss year mask\n",
    "dynamicWorld_year_infloss = dynamicWorld_year.updateMask(loss_year_mask)"
   ]
  },
  {
   "cell_type": "code",
   "execution_count": 10,
   "id": "7b616d94",
   "metadata": {},
   "outputs": [
    {
     "data": {
      "text/html": [
       "\n",
       "            <style>\n",
       "                .geemap-dark {\n",
       "                    --jp-widgets-color: white;\n",
       "                    --jp-widgets-label-color: white;\n",
       "                    --jp-ui-font-color1: white;\n",
       "                    --jp-layout-color2: #454545;\n",
       "                    background-color: #383838;\n",
       "                }\n",
       "\n",
       "                .geemap-dark .jupyter-button {\n",
       "                    --jp-layout-color3: #383838;\n",
       "                }\n",
       "\n",
       "                .geemap-colab {\n",
       "                    background-color: var(--colab-primary-surface-color, white);\n",
       "                }\n",
       "\n",
       "                .geemap-colab .jupyter-button {\n",
       "                    --jp-layout-color3: var(--colab-primary-surface-color, white);\n",
       "                }\n",
       "            </style>\n",
       "            "
      ],
      "text/plain": [
       "<IPython.core.display.HTML object>"
      ]
     },
     "metadata": {},
     "output_type": "display_data"
    }
   ],
   "source": [
    "#Defining function to calculate Land change in forest loss areas\n",
    "def calculate_land_change(feature, year):\n",
    "\n",
    "    #Selecting year of interest\n",
    "    dynamicWorld_year = dynamicWorld_COL.filterDate(f'{year}-01-01', f'{year}-12-31').max()\n",
    "\n",
    "    loss_year_mask = loss_year.eq(year)\n",
    "\n",
    "    #Masking the dynamicWorld image using the loss year mask\n",
    "    dynamicWorld_year_infloss = dynamicWorld_year.updateMask(loss_year_mask)\n",
    "\n",
    "    # Select the 'label' band from the Dynamic World image\n",
    "    label_band = dynamicWorld_year_infloss.select('label')\n",
    "\n",
    "    # Define land cover class codes and their names\n",
    "    land_cover_classes = {\n",
    "        2: 'grass',\n",
    "        4: 'crop',\n",
    "        5: 'shrub',\n",
    "        6: 'built',\n",
    "        7: 'bare'\n",
    "    }\n",
    "\n",
    "    # Initialize an empty dictionary to hold area images\n",
    "    area_images = {}\n",
    "\n",
    "    # Generate area images for each land cover class\n",
    "    for code, name in land_cover_classes.items():\n",
    "        mask = label_band.eq(code)\n",
    "        area_image = mask.multiply(ee.Image.pixelArea()).rename(f'{name}_area')\n",
    "        area_images[name] = area_image\n",
    "\n",
    "    # Compute areas by municipality for selected classes\n",
    "    results = {}\n",
    "    for name, image in area_images.items():\n",
    "        area_sum = image.reduceRegion(\n",
    "            reducer=ee.Reducer.sum(),\n",
    "            geometry=feature.geometry(),\n",
    "            scale=30,\n",
    "            maxPixels=1e9\n",
    "        ).get(f'{name}_area')\n",
    "        results[f'{name}_area_muni'] = area_sum\n",
    "\n",
    "    # Return a new feature with only the 'lossArea' and 'codmpio' properties\n",
    "    return ee.Feature(None, {\n",
    "        'codmpio': feature.get('codmpio'),\n",
    "        f'crop_area{year}': results['crop_area_muni'],\n",
    "        f'grass_area{year}': results['grass_area_muni'],\n",
    "        f'shrub_area{year}': results['shrub_area_muni'],\n",
    "        f'built_area{year}': results['built_area_muni'],\n",
    "        f'bare_area{year}': results['bare_area_muni']\n",
    "    })"
   ]
  },
  {
   "cell_type": "code",
   "execution_count": 14,
   "id": "39af77ec",
   "metadata": {},
   "outputs": [
    {
     "data": {
      "text/html": [
       "\n",
       "            <style>\n",
       "                .geemap-dark {\n",
       "                    --jp-widgets-color: white;\n",
       "                    --jp-widgets-label-color: white;\n",
       "                    --jp-ui-font-color1: white;\n",
       "                    --jp-layout-color2: #454545;\n",
       "                    background-color: #383838;\n",
       "                }\n",
       "\n",
       "                .geemap-dark .jupyter-button {\n",
       "                    --jp-layout-color3: #383838;\n",
       "                }\n",
       "\n",
       "                .geemap-colab {\n",
       "                    background-color: var(--colab-primary-surface-color, white);\n",
       "                }\n",
       "\n",
       "                .geemap-colab .jupyter-button {\n",
       "                    --jp-layout-color3: var(--colab-primary-surface-color, white);\n",
       "                }\n",
       "            </style>\n",
       "            "
      ],
      "text/plain": [
       "<IPython.core.display.HTML object>"
      ]
     },
     "metadata": {},
     "output_type": "display_data"
    },
    {
     "name": "stdout",
     "output_type": "stream",
     "text": [
      "Feature 1:\n",
      " {'type': 'Feature', 'geometry': None, 'id': '00000000000000000263', 'properties': {'bare_area2017': 0, 'built_area2017': 0, 'codmpio': 5002, 'crop_area2017': 0, 'grass_area2017': 0, 'shrub_area2017': 0}} \n",
      "\n",
      "Feature 2:\n",
      " {'type': 'Feature', 'geometry': None, 'id': '000000000000000002ff', 'properties': {'bare_area2017': 0, 'built_area2017': 0, 'codmpio': 5004, 'crop_area2017': 0, 'grass_area2017': 0, 'shrub_area2017': 0}} \n",
      "\n",
      "Feature 3:\n",
      " {'type': 'Feature', 'geometry': None, 'id': '00000000000000000006', 'properties': {'bare_area2017': 0, 'built_area2017': 0, 'codmpio': 50006, 'crop_area2017': 0, 'grass_area2017': 0, 'shrub_area2017': 0}} \n",
      "\n",
      "Feature 4:\n",
      " {'type': 'Feature', 'geometry': None, 'id': '0000000000000000039c', 'properties': {'bare_area2017': 0, 'built_area2017': 0, 'codmpio': 27006, 'crop_area2017': 0, 'grass_area2017': 0, 'shrub_area2017': 0}} \n",
      "\n",
      "Feature 5:\n",
      " {'type': 'Feature', 'geometry': None, 'id': '00000000000000000187', 'properties': {'bare_area2017': 0, 'built_area2017': 0, 'codmpio': 41006, 'crop_area2017': 0, 'grass_area2017': 0, 'shrub_area2017': 0}} \n",
      "\n",
      "Feature 6:\n",
      " {'type': 'Feature', 'geometry': None, 'id': '000000000000000003a4', 'properties': {'bare_area2017': 0, 'built_area2017': 0, 'codmpio': 13006, 'crop_area2017': 0, 'grass_area2017': 0, 'shrub_area2017': 0}} \n",
      "\n",
      "Feature 7:\n",
      " {'type': 'Feature', 'geometry': None, 'id': '000000000000000001b0', 'properties': {'bare_area2017': 0, 'built_area2017': 0, 'codmpio': 41013, 'crop_area2017': 0, 'grass_area2017': 0, 'shrub_area2017': 0}} \n",
      "\n",
      "Feature 8:\n",
      " {'type': 'Feature', 'geometry': None, 'id': '00000000000000000024', 'properties': {'bare_area2017': 0, 'built_area2017': 0, 'codmpio': 25001, 'crop_area2017': 0, 'grass_area2017': 0, 'shrub_area2017': 0}} \n",
      "\n",
      "Feature 9:\n",
      " {'type': 'Feature', 'geometry': None, 'id': '00000000000000000392', 'properties': {'bare_area2017': 0, 'built_area2017': 0, 'codmpio': 20011, 'crop_area2017': 0, 'grass_area2017': 0, 'shrub_area2017': 0}} \n",
      "\n",
      "Feature 10:\n",
      " {'type': 'Feature', 'geometry': None, 'id': '000000000000000002a4', 'properties': {'bare_area2017': 0, 'built_area2017': 0, 'codmpio': 68013, 'crop_area2017': 0, 'grass_area2017': 0, 'shrub_area2017': 0}} \n",
      "\n"
     ]
    }
   ],
   "source": [
    "year=2017\n",
    "current_year_results = colombiaMpios.map(lambda feature: calculate_land_change(feature, year))\n",
    "\n",
    "# Get first 10 features as a list\n",
    "first_10 = current_year_results.toList(10)\n",
    "\n",
    "# Loop over and print each one\n",
    "for i in range(10):\n",
    "    feature = ee.Feature(first_10.get(i))\n",
    "    print(f\"Feature {i + 1}:\\n\", feature.getInfo(), \"\\n\")"
   ]
  }
 ],
 "metadata": {
  "kernelspec": {
   "display_name": "geo",
   "language": "python",
   "name": "python3"
  },
  "language_info": {
   "codemirror_mode": {
    "name": "ipython",
    "version": 3
   },
   "file_extension": ".py",
   "mimetype": "text/x-python",
   "name": "python",
   "nbconvert_exporter": "python",
   "pygments_lexer": "ipython3",
   "version": "3.9.20"
  }
 },
 "nbformat": 4,
 "nbformat_minor": 5
}
