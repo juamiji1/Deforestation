{
 "cells": [
  {
   "cell_type": "markdown",
   "metadata": {},
   "source": [
    "# Calculating Forest Loss (using IDEAM)"
   ]
  },
  {
   "cell_type": "code",
   "execution_count": 9,
   "metadata": {},
   "outputs": [
    {
     "data": {
      "text/html": [
       "\n",
       "            <style>\n",
       "                .geemap-dark {\n",
       "                    --jp-widgets-color: white;\n",
       "                    --jp-widgets-label-color: white;\n",
       "                    --jp-ui-font-color1: white;\n",
       "                    --jp-layout-color2: #454545;\n",
       "                    background-color: #383838;\n",
       "                }\n",
       "\n",
       "                .geemap-dark .jupyter-button {\n",
       "                    --jp-layout-color3: #383838;\n",
       "                }\n",
       "\n",
       "                .geemap-colab {\n",
       "                    background-color: var(--colab-primary-surface-color, white);\n",
       "                }\n",
       "\n",
       "                .geemap-colab .jupyter-button {\n",
       "                    --jp-layout-color3: var(--colab-primary-surface-color, white);\n",
       "                }\n",
       "            </style>\n",
       "            "
      ],
      "text/plain": [
       "<IPython.core.display.HTML object>"
      ]
     },
     "metadata": {},
     "output_type": "display_data"
    }
   ],
   "source": [
    "import os\n",
    "import ee\n",
    "import geemap \n",
    "import pandas as pd\n",
    "\n",
    "#ee.Authenticate()\n",
    "ee.Initialize()"
   ]
  },
  {
   "cell_type": "code",
   "execution_count": 10,
   "metadata": {},
   "outputs": [
    {
     "data": {
      "text/html": [
       "\n",
       "            <style>\n",
       "                .geemap-dark {\n",
       "                    --jp-widgets-color: white;\n",
       "                    --jp-widgets-label-color: white;\n",
       "                    --jp-ui-font-color1: white;\n",
       "                    --jp-layout-color2: #454545;\n",
       "                    background-color: #383838;\n",
       "                }\n",
       "\n",
       "                .geemap-dark .jupyter-button {\n",
       "                    --jp-layout-color3: #383838;\n",
       "                }\n",
       "\n",
       "                .geemap-colab {\n",
       "                    background-color: var(--colab-primary-surface-color, white);\n",
       "                }\n",
       "\n",
       "                .geemap-colab .jupyter-button {\n",
       "                    --jp-layout-color3: var(--colab-primary-surface-color, white);\n",
       "                }\n",
       "            </style>\n",
       "            "
      ],
      "text/plain": [
       "<IPython.core.display.HTML object>"
      ]
     },
     "metadata": {},
     "output_type": "display_data"
    }
   ],
   "source": [
    "# Define the bounding box of Colombia (using a shapefile uploaded to the assets folder)\n",
    "colombiaMpios = ee.FeatureCollection('projects/ee-juamiji/assets/Muni')\n",
    "\n",
    "# Import the Forest loss image\n",
    "flossHansen = ee.Image(\"UMD/hansen/global_forest_change_2023_v1_11\")\n",
    "\n",
    "# Import the Primary Tropical Forest cover image collection and filter it for Colombia\n",
    "primaryForest_ideam = ee.Image(\"projects/ee-juamiji/assets/SouthAmerica_2001_primary\").selfMask()\n",
    "primaryForest_ideam_COL = primaryForest_ideam.clip(colombiaMpios)\n",
    "\n",
    "# Clip the Forest loss image to Colombia's boundaries\n",
    "flossHansen_COL = flossHansen.clip(colombiaMpios)\n"
   ]
  },
  {
   "cell_type": "code",
   "execution_count": 11,
   "metadata": {},
   "outputs": [
    {
     "data": {
      "text/html": [
       "\n",
       "            <style>\n",
       "                .geemap-dark {\n",
       "                    --jp-widgets-color: white;\n",
       "                    --jp-widgets-label-color: white;\n",
       "                    --jp-ui-font-color1: white;\n",
       "                    --jp-layout-color2: #454545;\n",
       "                    background-color: #383838;\n",
       "                }\n",
       "\n",
       "                .geemap-dark .jupyter-button {\n",
       "                    --jp-layout-color3: #383838;\n",
       "                }\n",
       "\n",
       "                .geemap-colab {\n",
       "                    background-color: var(--colab-primary-surface-color, white);\n",
       "                }\n",
       "\n",
       "                .geemap-colab .jupyter-button {\n",
       "                    --jp-layout-color3: var(--colab-primary-surface-color, white);\n",
       "                }\n",
       "            </style>\n",
       "            "
      ],
      "text/plain": [
       "<IPython.core.display.HTML object>"
      ]
     },
     "metadata": {},
     "output_type": "display_data"
    },
    {
     "data": {
      "application/vnd.jupyter.widget-view+json": {
       "model_id": "6468bb6039c7469fb2d9443aea42f991",
       "version_major": 2,
       "version_minor": 0
      },
      "text/plain": [
       "Map(center=[4.0, -72.0], controls=(WidgetControl(options=['position', 'transparent_bg'], widget=SearchDataGUI(…"
      ]
     },
     "execution_count": 11,
     "metadata": {},
     "output_type": "execute_result"
    }
   ],
   "source": [
    "# Visualization parameters for the map\n",
    "viz_params = {\n",
    "    'min':1,  # Minimum value for visualization\n",
    "    'max': 1,  # Maximum value for visualization\n",
    "    'palette': ['008000']  # Color gradient\n",
    "}\n",
    "\n",
    "# Initialize the map using geemap\n",
    "Map = geemap.Map(center=[4.0, -72.0], zoom=5)  # Center roughly in Colombia with an appropriate zoom level\n",
    "Map.addLayer(primaryForest_ideam_COL, viz_params, \"Primary Tropical Forests\")\n",
    "Map"
   ]
  },
  {
   "cell_type": "code",
   "execution_count": 12,
   "metadata": {},
   "outputs": [
    {
     "data": {
      "text/html": [
       "\n",
       "            <style>\n",
       "                .geemap-dark {\n",
       "                    --jp-widgets-color: white;\n",
       "                    --jp-widgets-label-color: white;\n",
       "                    --jp-ui-font-color1: white;\n",
       "                    --jp-layout-color2: #454545;\n",
       "                    background-color: #383838;\n",
       "                }\n",
       "\n",
       "                .geemap-dark .jupyter-button {\n",
       "                    --jp-layout-color3: #383838;\n",
       "                }\n",
       "\n",
       "                .geemap-colab {\n",
       "                    background-color: var(--colab-primary-surface-color, white);\n",
       "                }\n",
       "\n",
       "                .geemap-colab .jupyter-button {\n",
       "                    --jp-layout-color3: var(--colab-primary-surface-color, white);\n",
       "                }\n",
       "            </style>\n",
       "            "
      ],
      "text/plain": [
       "<IPython.core.display.HTML object>"
      ]
     },
     "metadata": {},
     "output_type": "display_data"
    }
   ],
   "source": [
    "# Create a mask where fcover is equal to 1.\n",
    "primaryMask = primaryForest_ideam_COL.eq(1)\n",
    "\n",
    "# Masking the floss imagery using the primary mask (cover equals 1)\n",
    "flossHansen_COLmasked = flossHansen_COL.updateMask(primaryMask)\n",
    "\n",
    "# Select the 'lossyear' band from the masked forest loss image\n",
    "loss_year = flossHansen_COLmasked.select(['lossyear'])"
   ]
  },
  {
   "cell_type": "markdown",
   "metadata": {},
   "source": [
    "## Code for all years from 2000 to 2023:"
   ]
  },
  {
   "cell_type": "code",
   "execution_count": 13,
   "metadata": {},
   "outputs": [
    {
     "data": {
      "text/html": [
       "\n",
       "            <style>\n",
       "                .geemap-dark {\n",
       "                    --jp-widgets-color: white;\n",
       "                    --jp-widgets-label-color: white;\n",
       "                    --jp-ui-font-color1: white;\n",
       "                    --jp-layout-color2: #454545;\n",
       "                    background-color: #383838;\n",
       "                }\n",
       "\n",
       "                .geemap-dark .jupyter-button {\n",
       "                    --jp-layout-color3: #383838;\n",
       "                }\n",
       "\n",
       "                .geemap-colab {\n",
       "                    background-color: var(--colab-primary-surface-color, white);\n",
       "                }\n",
       "\n",
       "                .geemap-colab .jupyter-button {\n",
       "                    --jp-layout-color3: var(--colab-primary-surface-color, white);\n",
       "                }\n",
       "            </style>\n",
       "            "
      ],
      "text/plain": [
       "<IPython.core.display.HTML object>"
      ]
     },
     "metadata": {},
     "output_type": "display_data"
    },
    {
     "name": "stdout",
     "output_type": "stream",
     "text": [
      "{'type': 'Feature', 'geometry': None, 'id': '00000000000000000263', 'properties': {'codmpio': 5002, 'lossarea0': 0}}\n",
      "{'type': 'Feature', 'geometry': None, 'id': '00000000000000000263', 'properties': {'codmpio': 5002, 'lossarea1': 0}}\n",
      "{'type': 'Feature', 'geometry': None, 'id': '00000000000000000263', 'properties': {'codmpio': 5002, 'lossarea2': 0}}\n",
      "{'type': 'Feature', 'geometry': None, 'id': '00000000000000000263', 'properties': {'codmpio': 5002, 'lossarea3': 0}}\n",
      "{'type': 'Feature', 'geometry': None, 'id': '00000000000000000263', 'properties': {'codmpio': 5002, 'lossarea4': 0}}\n",
      "{'type': 'Feature', 'geometry': None, 'id': '00000000000000000263', 'properties': {'codmpio': 5002, 'lossarea5': 0}}\n",
      "{'type': 'Feature', 'geometry': None, 'id': '00000000000000000263', 'properties': {'codmpio': 5002, 'lossarea6': 1778.8826904296875}}\n",
      "{'type': 'Feature', 'geometry': None, 'id': '00000000000000000263', 'properties': {'codmpio': 5002, 'lossarea7': 0}}\n",
      "{'type': 'Feature', 'geometry': None, 'id': '00000000000000000263', 'properties': {'codmpio': 5002, 'lossarea8': 0}}\n",
      "{'type': 'Feature', 'geometry': None, 'id': '00000000000000000263', 'properties': {'codmpio': 5002, 'lossarea9': 0}}\n",
      "{'type': 'Feature', 'geometry': None, 'id': '00000000000000000263', 'properties': {'codmpio': 5002, 'lossarea10': 0}}\n",
      "{'type': 'Feature', 'geometry': None, 'id': '00000000000000000263', 'properties': {'codmpio': 5002, 'lossarea11': 0}}\n",
      "{'type': 'Feature', 'geometry': None, 'id': '00000000000000000263', 'properties': {'codmpio': 5002, 'lossarea12': 5336.598327636719}}\n",
      "{'type': 'Feature', 'geometry': None, 'id': '00000000000000000263', 'properties': {'codmpio': 5002, 'lossarea13': 0}}\n",
      "{'type': 'Feature', 'geometry': None, 'id': '00000000000000000263', 'properties': {'codmpio': 5002, 'lossarea14': 0}}\n",
      "{'type': 'Feature', 'geometry': None, 'id': '00000000000000000263', 'properties': {'codmpio': 5002, 'lossarea15': 1778.868408203125}}\n",
      "{'type': 'Feature', 'geometry': None, 'id': '00000000000000000263', 'properties': {'codmpio': 5002, 'lossarea16': 0}}\n",
      "{'type': 'Feature', 'geometry': None, 'id': '00000000000000000263', 'properties': {'codmpio': 5002, 'lossarea17': 7115.589111328125}}\n",
      "{'type': 'Feature', 'geometry': None, 'id': '00000000000000000263', 'properties': {'codmpio': 5002, 'lossarea18': 14231.073303222656}}\n",
      "{'type': 'Feature', 'geometry': None, 'id': '00000000000000000263', 'properties': {'codmpio': 5002, 'lossarea19': 60481.713928222656}}\n",
      "{'type': 'Feature', 'geometry': None, 'id': '00000000000000000263', 'properties': {'codmpio': 5002, 'lossarea20': 9783.697814941406}}\n",
      "{'type': 'Feature', 'geometry': None, 'id': '00000000000000000263', 'properties': {'codmpio': 5002, 'lossarea21': 0}}\n",
      "{'type': 'Feature', 'geometry': None, 'id': '00000000000000000263', 'properties': {'codmpio': 5002, 'lossarea22': 21346.601135253906}}\n",
      "{'type': 'Feature', 'geometry': None, 'id': '00000000000000000263', 'properties': {'codmpio': 5002, 'lossarea23': 20457.38848876953}}\n"
     ]
    }
   ],
   "source": [
    "# Calculate the total loss area per municipality\n",
    "def calculate_loss_area(feature, year):\n",
    "\n",
    "    loss_year_mask = loss_year.eq(year)\n",
    "\n",
    "    # Calculate the loss area for the current year in square meters\n",
    "    loss_area_image = loss_year_mask.multiply(ee.Image.pixelArea())\n",
    "\n",
    "    # Use reduceRegion to calculate the sum of the loss area within the feature's geometry\n",
    "    loss_area = loss_area_image.reduceRegion(\n",
    "        reducer=ee.Reducer.sum(),\n",
    "        geometry=feature.geometry(),\n",
    "        scale=30,\n",
    "        maxPixels=1e9\n",
    "    ).get('lossyear')  # Replace 'lossyear' with the correct property name if different\n",
    "    \n",
    "     # Dynamically name the loss area property\n",
    "    loss_area_property_name = f'lossarea{year}'\n",
    "\n",
    "    # Return a new feature with only the 'lossArea' and 'codmpio' properties\n",
    "    return ee.Feature(None, {\n",
    "        loss_area_property_name: loss_area,\n",
    "        'codmpio': feature.get('codmpio'),  # Ensure 'codmpio' exists in the original feature\n",
    "    })\n",
    "\n",
    "# Dictionary to store results for each year\n",
    "year_results_dict = {}\n",
    "\n",
    "for year in range(0, 24):\n",
    "    # Use a lambda function to pass the current year into the map function\n",
    "    current_year_results = colombiaMpios.map(lambda feature: calculate_loss_area(feature, year))\n",
    "    year_results_dict[f'year_results{year}'] = current_year_results\n",
    "    # Optionally print the first feature's info to check\n",
    "    print(year_results_dict[f'year_results{year}'].first().getInfo())"
   ]
  },
  {
   "cell_type": "code",
   "execution_count": 14,
   "metadata": {},
   "outputs": [
    {
     "data": {
      "text/html": [
       "\n",
       "            <style>\n",
       "                .geemap-dark {\n",
       "                    --jp-widgets-color: white;\n",
       "                    --jp-widgets-label-color: white;\n",
       "                    --jp-ui-font-color1: white;\n",
       "                    --jp-layout-color2: #454545;\n",
       "                    background-color: #383838;\n",
       "                }\n",
       "\n",
       "                .geemap-dark .jupyter-button {\n",
       "                    --jp-layout-color3: #383838;\n",
       "                }\n",
       "\n",
       "                .geemap-colab {\n",
       "                    background-color: var(--colab-primary-surface-color, white);\n",
       "                }\n",
       "\n",
       "                .geemap-colab .jupyter-button {\n",
       "                    --jp-layout-color3: var(--colab-primary-surface-color, white);\n",
       "                }\n",
       "            </style>\n",
       "            "
      ],
      "text/plain": [
       "<IPython.core.display.HTML object>"
      ]
     },
     "metadata": {},
     "output_type": "display_data"
    },
    {
     "name": "stdout",
     "output_type": "stream",
     "text": [
      "Exporting ForestLossIdeamData_Year0 to Google Drive...\n",
      "Exporting ForestLossIdeamData_Year1 to Google Drive...\n",
      "Exporting ForestLossIdeamData_Year2 to Google Drive...\n",
      "Exporting ForestLossIdeamData_Year3 to Google Drive...\n",
      "Exporting ForestLossIdeamData_Year4 to Google Drive...\n",
      "Exporting ForestLossIdeamData_Year5 to Google Drive...\n",
      "Exporting ForestLossIdeamData_Year6 to Google Drive...\n",
      "Exporting ForestLossIdeamData_Year7 to Google Drive...\n",
      "Exporting ForestLossIdeamData_Year8 to Google Drive...\n",
      "Exporting ForestLossIdeamData_Year9 to Google Drive...\n",
      "Exporting ForestLossIdeamData_Year10 to Google Drive...\n",
      "Exporting ForestLossIdeamData_Year11 to Google Drive...\n",
      "Exporting ForestLossIdeamData_Year12 to Google Drive...\n",
      "Exporting ForestLossIdeamData_Year13 to Google Drive...\n",
      "Exporting ForestLossIdeamData_Year14 to Google Drive...\n",
      "Exporting ForestLossIdeamData_Year15 to Google Drive...\n",
      "Exporting ForestLossIdeamData_Year16 to Google Drive...\n",
      "Exporting ForestLossIdeamData_Year17 to Google Drive...\n",
      "Exporting ForestLossIdeamData_Year18 to Google Drive...\n",
      "Exporting ForestLossIdeamData_Year19 to Google Drive...\n",
      "Exporting ForestLossIdeamData_Year20 to Google Drive...\n",
      "Exporting ForestLossIdeamData_Year21 to Google Drive...\n",
      "Exporting ForestLossIdeamData_Year22 to Google Drive...\n",
      "Exporting ForestLossIdeamData_Year23 to Google Drive...\n"
     ]
    }
   ],
   "source": [
    "# Define a function to export FeatureCollections to Google Drive\n",
    "def export_to_drive(feature_collection, year, description_prefix=\"ForestLossIdeamData\", folder_name=\"EarthEngineExports\"):\n",
    "    # Create the export task\n",
    "    export_task = ee.batch.Export.table.toDrive(\n",
    "        collection=feature_collection,\n",
    "        description=f\"{description_prefix}_Year{year}\",\n",
    "        folder=\"EarthEngineExports\",\n",
    "        fileNamePrefix=f\"ForestLoss_IDEAM_Year{year}\",\n",
    "        fileFormat=\"CSV\"\n",
    "    )\n",
    "    # Start the export task\n",
    "    export_task.start()\n",
    "    print(f\"Exporting {description_prefix}_Year{year} to Google Drive...\")\n",
    "\n",
    "# Loop through each item in the dictionary and initiate an export\n",
    "for year, feature_collection in year_results_dict.items():\n",
    "    # Extract the year from the key (which is a string like 'year_results11')\n",
    "    extracted_year = int(year.replace('year_results', ''))\n",
    "    export_to_drive(feature_collection, extracted_year)"
   ]
  },
  {
   "cell_type": "code",
   "execution_count": 15,
   "metadata": {},
   "outputs": [
    {
     "data": {
      "text/html": [
       "\n",
       "            <style>\n",
       "                .geemap-dark {\n",
       "                    --jp-widgets-color: white;\n",
       "                    --jp-widgets-label-color: white;\n",
       "                    --jp-ui-font-color1: white;\n",
       "                    --jp-layout-color2: #454545;\n",
       "                    background-color: #383838;\n",
       "                }\n",
       "\n",
       "                .geemap-dark .jupyter-button {\n",
       "                    --jp-layout-color3: #383838;\n",
       "                }\n",
       "\n",
       "                .geemap-colab {\n",
       "                    background-color: var(--colab-primary-surface-color, white);\n",
       "                }\n",
       "\n",
       "                .geemap-colab .jupyter-button {\n",
       "                    --jp-layout-color3: var(--colab-primary-surface-color, white);\n",
       "                }\n",
       "            </style>\n",
       "            "
      ],
      "text/plain": [
       "<IPython.core.display.HTML object>"
      ]
     },
     "metadata": {},
     "output_type": "display_data"
    },
    {
     "name": "stdout",
     "output_type": "stream",
     "text": [
      "   codmpio      lossarea3\n",
      "0     5002       0.000000\n",
      "1     5004   63062.670898\n",
      "2    50006   45476.478882\n",
      "3    27006  444951.373779\n",
      "4    41006    6255.092163\n"
     ]
    }
   ],
   "source": [
    "# Convert the FeatureCollection to a list of features\n",
    "features =  year_results_dict['year_results3'].getInfo()['features']\n",
    "\n",
    "# Extract properties from each feature\n",
    "data = [feature['properties'] for feature in features]\n",
    "\n",
    "# Create a Pandas DataFrame\n",
    "df = pd.DataFrame(data)\n",
    "\n",
    "# Display the first few rows of the DataFrame\n",
    "print(df.head())"
   ]
  },
  {
   "cell_type": "code",
   "execution_count": 16,
   "metadata": {},
   "outputs": [
    {
     "data": {
      "text/html": [
       "\n",
       "            <style>\n",
       "                .geemap-dark {\n",
       "                    --jp-widgets-color: white;\n",
       "                    --jp-widgets-label-color: white;\n",
       "                    --jp-ui-font-color1: white;\n",
       "                    --jp-layout-color2: #454545;\n",
       "                    background-color: #383838;\n",
       "                }\n",
       "\n",
       "                .geemap-dark .jupyter-button {\n",
       "                    --jp-layout-color3: #383838;\n",
       "                }\n",
       "\n",
       "                .geemap-colab {\n",
       "                    background-color: var(--colab-primary-surface-color, white);\n",
       "                }\n",
       "\n",
       "                .geemap-colab .jupyter-button {\n",
       "                    --jp-layout-color3: var(--colab-primary-surface-color, white);\n",
       "                }\n",
       "            </style>\n",
       "            "
      ],
      "text/plain": [
       "<IPython.core.display.HTML object>"
      ]
     },
     "metadata": {},
     "output_type": "display_data"
    },
    {
     "name": "stdout",
     "output_type": "stream",
     "text": [
      "      N           mean            sd  min  p50           max\n",
      "0  1120  286596.013138  1.710529e+06  0.0  0.0  2.802999e+07\n"
     ]
    }
   ],
   "source": [
    "# Calculate basic statistics\n",
    "summary_stats = {\n",
    "    'N': len(df),  # Number of observations\n",
    "    'mean': df['lossarea3'].mean(),  # Mean\n",
    "    'sd': df['lossarea3'].std(),  # Standard deviation\n",
    "    'min': df['lossarea3'].min(),  # Minimum\n",
    "    'p50': df['lossarea3'].median(),  # Median (50th percentile)\n",
    "    'max': df['lossarea3'].max()  # Maximum\n",
    "}\n",
    "\n",
    "# Convert to a DataFrame for better visualization\n",
    "summ_df = pd.DataFrame(summary_stats, index=[0])\n",
    "\n",
    "# Display the summary statistics\n",
    "print(summ_df)"
   ]
  }
 ],
 "metadata": {
  "kernelspec": {
   "display_name": "geo",
   "language": "python",
   "name": "python3"
  },
  "language_info": {
   "codemirror_mode": {
    "name": "ipython",
    "version": 3
   },
   "file_extension": ".py",
   "mimetype": "text/x-python",
   "name": "python",
   "nbconvert_exporter": "python",
   "pygments_lexer": "ipython3",
   "version": "3.9.20"
  }
 },
 "nbformat": 4,
 "nbformat_minor": 2
}
