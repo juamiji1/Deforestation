{
 "cells": [
  {
   "cell_type": "markdown",
   "metadata": {},
   "source": [
    "# Calculating NigthLight Density (MODIS and VIIRS)"
   ]
  },
  {
   "cell_type": "code",
   "execution_count": null,
   "metadata": {},
   "outputs": [
    {
     "data": {
      "text/html": [
       "\n",
       "            <style>\n",
       "                .geemap-dark {\n",
       "                    --jp-widgets-color: white;\n",
       "                    --jp-widgets-label-color: white;\n",
       "                    --jp-ui-font-color1: white;\n",
       "                    --jp-layout-color2: #454545;\n",
       "                    background-color: #383838;\n",
       "                }\n",
       "\n",
       "                .geemap-dark .jupyter-button {\n",
       "                    --jp-layout-color3: #383838;\n",
       "                }\n",
       "\n",
       "                .geemap-colab {\n",
       "                    background-color: var(--colab-primary-surface-color, white);\n",
       "                }\n",
       "\n",
       "                .geemap-colab .jupyter-button {\n",
       "                    --jp-layout-color3: var(--colab-primary-surface-color, white);\n",
       "                }\n",
       "            </style>\n",
       "            "
      ],
      "text/plain": [
       "<IPython.core.display.HTML object>"
      ]
     },
     "metadata": {},
     "output_type": "display_data"
    }
   ],
   "source": [
    "import os\n",
    "import ee\n",
    "import geemap \n",
    "import pandas as pd\n",
    "\n",
    "#ee.Authenticate()\n",
    "ee.Initialize()"
   ]
  },
  {
   "cell_type": "markdown",
   "metadata": {},
   "source": [
    "## Loading, Clipping, and Masking Imagery\n"
   ]
  },
  {
   "cell_type": "code",
   "execution_count": null,
   "metadata": {},
   "outputs": [
    {
     "data": {
      "text/html": [
       "\n",
       "            <style>\n",
       "                .geemap-dark {\n",
       "                    --jp-widgets-color: white;\n",
       "                    --jp-widgets-label-color: white;\n",
       "                    --jp-ui-font-color1: white;\n",
       "                    --jp-layout-color2: #454545;\n",
       "                    background-color: #383838;\n",
       "                }\n",
       "\n",
       "                .geemap-dark .jupyter-button {\n",
       "                    --jp-layout-color3: #383838;\n",
       "                }\n",
       "\n",
       "                .geemap-colab {\n",
       "                    background-color: var(--colab-primary-surface-color, white);\n",
       "                }\n",
       "\n",
       "                .geemap-colab .jupyter-button {\n",
       "                    --jp-layout-color3: var(--colab-primary-surface-color, white);\n",
       "                }\n",
       "            </style>\n",
       "            "
      ],
      "text/plain": [
       "<IPython.core.display.HTML object>"
      ]
     },
     "metadata": {},
     "output_type": "display_data"
    }
   ],
   "source": [
    "# Define the bounding box of Colombia (using a shapefile uploaded to the assets folder)\n",
    "colombiaMpios = ee.FeatureCollection('projects/ee-juamiji/assets/Muni')\n",
    "\n",
    "# Import the Imagery of Nighttime Lights (Harmonized DMSP-OLS and VIIRS)\n",
    "dmsp = ee.ImageCollection(\"projects/sat-io/open-datasets/Harmonized_NTL/dmsp\")\n",
    "viirs = ee.ImageCollection(\"projects/sat-io/open-datasets/Harmonized_NTL/viirs\")\n",
    "\n",
    "# Clip the NL images to Colombia's boundaries\n",
    "dmsp_COL = dmsp.map(lambda image: image.clip(colombiaMpios))\n",
    "viirs_COL = viirs.map(lambda image: image.clip(colombiaMpios))"
   ]
  },
  {
   "cell_type": "code",
   "execution_count": 22,
   "metadata": {},
   "outputs": [
    {
     "data": {
      "text/html": [
       "\n",
       "            <style>\n",
       "                .geemap-dark {\n",
       "                    --jp-widgets-color: white;\n",
       "                    --jp-widgets-label-color: white;\n",
       "                    --jp-ui-font-color1: white;\n",
       "                    --jp-layout-color2: #454545;\n",
       "                    background-color: #383838;\n",
       "                }\n",
       "\n",
       "                .geemap-dark .jupyter-button {\n",
       "                    --jp-layout-color3: #383838;\n",
       "                }\n",
       "\n",
       "                .geemap-colab {\n",
       "                    background-color: var(--colab-primary-surface-color, white);\n",
       "                }\n",
       "\n",
       "                .geemap-colab .jupyter-button {\n",
       "                    --jp-layout-color3: var(--colab-primary-surface-color, white);\n",
       "                }\n",
       "            </style>\n",
       "            "
      ],
      "text/plain": [
       "<IPython.core.display.HTML object>"
      ]
     },
     "metadata": {},
     "output_type": "display_data"
    }
   ],
   "source": [
    "# # Mask function - paper suggests a DN threshold of 7. \"A harmonized global nighttime light dataset 1992–2018\"\n",
    "# def mask_dn_greater_than_7(image):\n",
    "#     b1 = image.select('b1') # band_names = first_dmsp.bandNames().getInfo()\n",
    "#     mask = b1.gt(7)  # Create a mask for values > 7\n",
    "#     return image.updateMask(mask)\n",
    "\n",
    "# # Apply the mask to each image in the collections\n",
    "# dmsp_masked = dmsp_COL.map(mask_dn_greater_than_7)\n",
    "# viirs_masked = viirs_COL.map(mask_dn_greater_than_7)"
   ]
  },
  {
   "cell_type": "markdown",
   "metadata": {},
   "source": [
    "## Calculating Average NL intensity fo DMSP (2000-2013)"
   ]
  },
  {
   "cell_type": "code",
   "execution_count": 23,
   "metadata": {},
   "outputs": [
    {
     "data": {
      "text/html": [
       "\n",
       "            <style>\n",
       "                .geemap-dark {\n",
       "                    --jp-widgets-color: white;\n",
       "                    --jp-widgets-label-color: white;\n",
       "                    --jp-ui-font-color1: white;\n",
       "                    --jp-layout-color2: #454545;\n",
       "                    background-color: #383838;\n",
       "                }\n",
       "\n",
       "                .geemap-dark .jupyter-button {\n",
       "                    --jp-layout-color3: #383838;\n",
       "                }\n",
       "\n",
       "                .geemap-colab {\n",
       "                    background-color: var(--colab-primary-surface-color, white);\n",
       "                }\n",
       "\n",
       "                .geemap-colab .jupyter-button {\n",
       "                    --jp-layout-color3: var(--colab-primary-surface-color, white);\n",
       "                }\n",
       "            </style>\n",
       "            "
      ],
      "text/plain": [
       "<IPython.core.display.HTML object>"
      ]
     },
     "metadata": {},
     "output_type": "display_data"
    },
    {
     "name": "stdout",
     "output_type": "stream",
     "text": [
      "{'type': 'Feature', 'geometry': None, 'id': '00000000000000000263', 'properties': {'codmpio': 5002, 'nl2000': 6.197840730418748}}\n",
      "{'type': 'Feature', 'geometry': None, 'id': '00000000000000000263', 'properties': {'codmpio': 5002, 'nl2001': 6.504423693606144}}\n",
      "{'type': 'Feature', 'geometry': None, 'id': '00000000000000000263', 'properties': {'codmpio': 5002, 'nl2002': 7.36862152231}}\n",
      "{'type': 'Feature', 'geometry': None, 'id': '00000000000000000263', 'properties': {'codmpio': 5002, 'nl2003': 10.843443683714478}}\n",
      "{'type': 'Feature', 'geometry': None, 'id': '00000000000000000263', 'properties': {'codmpio': 5002, 'nl2004': 7.0129664017830065}}\n",
      "{'type': 'Feature', 'geometry': None, 'id': '00000000000000000263', 'properties': {'codmpio': 5002, 'nl2005': 6.248395627482799}}\n",
      "{'type': 'Feature', 'geometry': None, 'id': '00000000000000000263', 'properties': {'codmpio': 5002, 'nl2006': 6.201859851589564}}\n",
      "{'type': 'Feature', 'geometry': None, 'id': '00000000000000000263', 'properties': {'codmpio': 5002, 'nl2007': 5.622496997844709}}\n",
      "{'type': 'Feature', 'geometry': None, 'id': '00000000000000000263', 'properties': {'codmpio': 5002, 'nl2008': 5.097067408764261}}\n",
      "{'type': 'Feature', 'geometry': None, 'id': '00000000000000000263', 'properties': {'codmpio': 5002, 'nl2009': 7.263364968994437}}\n",
      "{'type': 'Feature', 'geometry': None, 'id': '00000000000000000263', 'properties': {'codmpio': 5002, 'nl2010': 5.068107882231421}}\n",
      "{'type': 'Feature', 'geometry': None, 'id': '00000000000000000263', 'properties': {'codmpio': 5002, 'nl2011': 6.427202268131944}}\n",
      "{'type': 'Feature', 'geometry': None, 'id': '00000000000000000263', 'properties': {'codmpio': 5002, 'nl2012': 7.124555350506828}}\n"
     ]
    }
   ],
   "source": [
    "# Defining the function to calculate the mean DN value for each municipality in a given year\n",
    "def calculate_nl_mean(feature, year):\n",
    "\n",
    "    # Selecting year\n",
    "    dmsp_year = dmsp_COL.filterDate(f'{year}-01-01', f'{year}-12-31').mean()\n",
    "\n",
    "    # Calculating the mean DN value for the selected year \n",
    "    mean_dn = dmsp_year.reduceRegion (\n",
    "        reducer=ee.Reducer.mean(),\n",
    "        geometry=feature.geometry(),\n",
    "        scale=30,\n",
    "        maxPixels=1e9\n",
    "    ).get('b1')\n",
    "\n",
    "    # Dynamically name the b1 property\n",
    "    mean_dn_property_name = f'nl{year}'\n",
    "\n",
    "    # Return a new feature with only the 'DN' and 'codmpio' properties\n",
    "    return ee.Feature(None, {\n",
    "        mean_dn_property_name: mean_dn,\n",
    "        'codmpio': feature.get('codmpio'),  # Ensure 'codmpio' exists in the original feature\n",
    "    })\n",
    "\n",
    "# Dictionary to store results for each year\n",
    "year_results_dict = {}\n",
    "\n",
    "for year in range(2000, 2013):\n",
    "\n",
    "    # Use a lambda function to pass the current year into the map function\n",
    "    current_year_results = colombiaMpios.map(lambda feature: calculate_nl_mean(feature, year))\n",
    "    year_results_dict[f'nl_year_results{year}'] = current_year_results\n",
    "\n",
    "    # Optionally print the first feature's info to check\n",
    "    print(year_results_dict[f'nl_year_results{year}'].first().getInfo())\n"
   ]
  },
  {
   "cell_type": "markdown",
   "metadata": {},
   "source": [
    "## Calculating Average NL intensity from VIIRS (2013-2021)"
   ]
  },
  {
   "cell_type": "code",
   "execution_count": 24,
   "metadata": {},
   "outputs": [
    {
     "data": {
      "text/html": [
       "\n",
       "            <style>\n",
       "                .geemap-dark {\n",
       "                    --jp-widgets-color: white;\n",
       "                    --jp-widgets-label-color: white;\n",
       "                    --jp-ui-font-color1: white;\n",
       "                    --jp-layout-color2: #454545;\n",
       "                    background-color: #383838;\n",
       "                }\n",
       "\n",
       "                .geemap-dark .jupyter-button {\n",
       "                    --jp-layout-color3: #383838;\n",
       "                }\n",
       "\n",
       "                .geemap-colab {\n",
       "                    background-color: var(--colab-primary-surface-color, white);\n",
       "                }\n",
       "\n",
       "                .geemap-colab .jupyter-button {\n",
       "                    --jp-layout-color3: var(--colab-primary-surface-color, white);\n",
       "                }\n",
       "            </style>\n",
       "            "
      ],
      "text/plain": [
       "<IPython.core.display.HTML object>"
      ]
     },
     "metadata": {},
     "output_type": "display_data"
    },
    {
     "name": "stdout",
     "output_type": "stream",
     "text": [
      "{'type': 'Feature', 'geometry': None, 'id': '00000000000000000263', 'properties': {'codmpio': 5002, 'nl2013': 6.757315023330018}}\n",
      "{'type': 'Feature', 'geometry': None, 'id': '00000000000000000263', 'properties': {'codmpio': 5002, 'nl2014': 6.675836197815239}}\n",
      "{'type': 'Feature', 'geometry': None, 'id': '00000000000000000263', 'properties': {'codmpio': 5002, 'nl2015': 6.806950119426527}}\n",
      "{'type': 'Feature', 'geometry': None, 'id': '00000000000000000263', 'properties': {'codmpio': 5002, 'nl2016': 6.680289865189956}}\n",
      "{'type': 'Feature', 'geometry': None, 'id': '00000000000000000263', 'properties': {'codmpio': 5002, 'nl2017': 6.723684405516946}}\n",
      "{'type': 'Feature', 'geometry': None, 'id': '00000000000000000263', 'properties': {'codmpio': 5002, 'nl2018': 6.655522775797124}}\n",
      "{'type': 'Feature', 'geometry': None, 'id': '00000000000000000263', 'properties': {'codmpio': 5002, 'nl2019': 7.35385678564962}}\n",
      "{'type': 'Feature', 'geometry': None, 'id': '00000000000000000263', 'properties': {'codmpio': 5002, 'nl2020': 7.338199165529593}}\n"
     ]
    }
   ],
   "source": [
    "# Defining the function to calculate the mean DN value for each municipality in a given year\n",
    "def calculate_nl_mean(feature, year):\n",
    "\n",
    "    # Selecting year\n",
    "    viirs_year = viirs_COL.filterDate(f'{year}-01-01', f'{year}-12-31').mean()\n",
    "\n",
    "    # Calculating the mean DN value for the selected year \n",
    "    mean_dn = viirs_year.reduceRegion (\n",
    "        reducer=ee.Reducer.mean(),\n",
    "        geometry=feature.geometry(),\n",
    "        scale=30,\n",
    "        maxPixels=1e9\n",
    "    ).get('b1')\n",
    "\n",
    "    # Dynamically name the b1 property\n",
    "    mean_dn_property_name = f'nl{year}'\n",
    "\n",
    "    # Return a new feature with only the 'DN' and 'codmpio' properties\n",
    "    return ee.Feature(None, {\n",
    "        mean_dn_property_name: mean_dn,\n",
    "        'codmpio': feature.get('codmpio'),  # Ensure 'codmpio' exists in the original feature\n",
    "    })\n",
    "\n",
    "for year in range(2013, 2021):\n",
    "\n",
    "    # Use a lambda function to pass the current year into the map function\n",
    "    current_year_results = colombiaMpios.map(lambda feature: calculate_nl_mean(feature, year))\n",
    "    year_results_dict[f'nl_year_results{year}'] = current_year_results\n",
    "\n",
    "    # Optionally print the first feature's info to check\n",
    "    print(year_results_dict[f'nl_year_results{year}'].first().getInfo())"
   ]
  },
  {
   "cell_type": "markdown",
   "metadata": {},
   "source": [
    "## Exporting CVS files to my Google Drive  \n",
    "### NOTE: see the progress of exports at [GEE Task Manager](https://code.earthengine.google.com/tasks)"
   ]
  },
  {
   "cell_type": "code",
   "execution_count": null,
   "metadata": {},
   "outputs": [
    {
     "data": {
      "text/html": [
       "\n",
       "            <style>\n",
       "                .geemap-dark {\n",
       "                    --jp-widgets-color: white;\n",
       "                    --jp-widgets-label-color: white;\n",
       "                    --jp-ui-font-color1: white;\n",
       "                    --jp-layout-color2: #454545;\n",
       "                    background-color: #383838;\n",
       "                }\n",
       "\n",
       "                .geemap-dark .jupyter-button {\n",
       "                    --jp-layout-color3: #383838;\n",
       "                }\n",
       "\n",
       "                .geemap-colab {\n",
       "                    background-color: var(--colab-primary-surface-color, white);\n",
       "                }\n",
       "\n",
       "                .geemap-colab .jupyter-button {\n",
       "                    --jp-layout-color3: var(--colab-primary-surface-color, white);\n",
       "                }\n",
       "            </style>\n",
       "            "
      ],
      "text/plain": [
       "<IPython.core.display.HTML object>"
      ]
     },
     "metadata": {},
     "output_type": "display_data"
    },
    {
     "name": "stdout",
     "output_type": "stream",
     "text": [
      "Exporting NightLightData_Year2000 to Google Drive...\n",
      "Exporting NightLightData_Year2001 to Google Drive...\n",
      "Exporting NightLightData_Year2002 to Google Drive...\n",
      "Exporting NightLightData_Year2003 to Google Drive...\n",
      "Exporting NightLightData_Year2004 to Google Drive...\n",
      "Exporting NightLightData_Year2005 to Google Drive...\n",
      "Exporting NightLightData_Year2006 to Google Drive...\n",
      "Exporting NightLightData_Year2007 to Google Drive...\n",
      "Exporting NightLightData_Year2008 to Google Drive...\n",
      "Exporting NightLightData_Year2009 to Google Drive...\n",
      "Exporting NightLightData_Year2010 to Google Drive...\n",
      "Exporting NightLightData_Year2011 to Google Drive...\n",
      "Exporting NightLightData_Year2012 to Google Drive...\n",
      "Exporting NightLightData_Year2013 to Google Drive...\n",
      "Exporting NightLightData_Year2014 to Google Drive...\n",
      "Exporting NightLightData_Year2015 to Google Drive...\n",
      "Exporting NightLightData_Year2016 to Google Drive...\n",
      "Exporting NightLightData_Year2017 to Google Drive...\n",
      "Exporting NightLightData_Year2018 to Google Drive...\n",
      "Exporting NightLightData_Year2019 to Google Drive...\n",
      "Exporting NightLightData_Year2020 to Google Drive...\n"
     ]
    }
   ],
   "source": [
    "# Define a function to export FeatureCollections to Google Drive\n",
    "def export_to_drive(feature_collection, year, description_prefix=\"NightLightData\", folder_name=\"EarthEngineExports\"):\n",
    "    # Create the export task\n",
    "    export_task = ee.batch.Export.table.toDrive(\n",
    "        collection=feature_collection,\n",
    "        description=f\"{description_prefix}_Year{year}\",\n",
    "        folder=\"EarthEngineExports\",\n",
    "        fileNamePrefix=f\"NightLight_Year{year}\",\n",
    "        fileFormat=\"CSV\"\n",
    "    )\n",
    "    # Start the export task\n",
    "    export_task.start()\n",
    "    print(f\"Exporting {description_prefix}_Year{year} to Google Drive...\")\n",
    "\n",
    "# Loop through each item in the dictionary and initiate an export\n",
    "for year, feature_collection in year_results_dict.items():\n",
    "    # Extract the year from the key (which is a string like 'year_results11')\n",
    "    extracted_year = int(year.replace('nl_year_results', ''))\n",
    "    export_to_drive(feature_collection, extracted_year)\n",
    "    \n",
    "#END"
   ]
  }
 ],
 "metadata": {
  "kernelspec": {
   "display_name": "geo",
   "language": "python",
   "name": "python3"
  },
  "language_info": {
   "codemirror_mode": {
    "name": "ipython",
    "version": 3
   },
   "file_extension": ".py",
   "mimetype": "text/x-python",
   "name": "python",
   "nbconvert_exporter": "python",
   "pygments_lexer": "ipython3",
   "version": "3.9.20"
  }
 },
 "nbformat": 4,
 "nbformat_minor": 2
}
