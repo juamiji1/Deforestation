{
 "cells": [
  {
   "cell_type": "markdown",
   "metadata": {},
   "source": [
    "# Calculating Fires Area (FIRMS)"
   ]
  },
  {
   "cell_type": "code",
   "execution_count": 1,
   "metadata": {},
   "outputs": [],
   "source": [
    "import os\n",
    "import ee\n",
    "import geemap \n",
    "import pandas as pd\n",
    "\n",
    "#ee.Authenticate()\n",
    "ee.Initialize()"
   ]
  },
  {
   "cell_type": "markdown",
   "metadata": {},
   "source": [
    "## Loading, Clipping, and Masking Imagery"
   ]
  },
  {
   "cell_type": "code",
   "execution_count": null,
   "metadata": {},
   "outputs": [
    {
     "data": {
      "text/html": [
       "\n",
       "            <style>\n",
       "                .geemap-dark {\n",
       "                    --jp-widgets-color: white;\n",
       "                    --jp-widgets-label-color: white;\n",
       "                    --jp-ui-font-color1: white;\n",
       "                    --jp-layout-color2: #454545;\n",
       "                    background-color: #383838;\n",
       "                }\n",
       "\n",
       "                .geemap-dark .jupyter-button {\n",
       "                    --jp-layout-color3: #383838;\n",
       "                }\n",
       "\n",
       "                .geemap-colab {\n",
       "                    background-color: var(--colab-primary-surface-color, white);\n",
       "                }\n",
       "\n",
       "                .geemap-colab .jupyter-button {\n",
       "                    --jp-layout-color3: var(--colab-primary-surface-color, white);\n",
       "                }\n",
       "            </style>\n",
       "            "
      ],
      "text/plain": [
       "<IPython.core.display.HTML object>"
      ]
     },
     "metadata": {},
     "output_type": "display_data"
    }
   ],
   "source": [
    "# Define the bounding box of Colombia (using a shapefile uploaded to the assets folder)\n",
    "colombiaMpios = ee.FeatureCollection('projects/ee-juamiji/assets/Muni')\n",
    "\n",
    "# Import the Primary Tropical Forest cover image collection and filter it for Colombia\n",
    "primaryForest_ideam = ee.Image(\"projects/ee-juamiji/assets/SouthAmerica_2001_primary\").selfMask()\n",
    "primaryForest_ideam_COL = primaryForest_ideam.clip(colombiaMpios)\n",
    "\n",
    "# Import the Imagery of Nighttime Lights (Harmonized DMSP-OLS and VIIRS)\n",
    "firms = ee.ImageCollection(\"FIRMS\")\n",
    "\n",
    "# Function to mask and binarize fire pixels\n",
    "def binarize_fire_pixels(img):\n",
    "    fire_mask = img.select('T21').mask()  # Mask where T21 exists (fire pixels)\n",
    "    binary_img = ee.Image(1).updateMask(fire_mask)  # Replace all valid T21 pixels with 1\n",
    "    return binary_img.copyProperties(img, img.propertyNames())  # Keep original metadata\n",
    "\n",
    "# Apply to the FIRMS collection and clip to Colombia\n",
    "firms_binary = firms.map(binarize_fire_pixels).map(lambda img: img.clip(colombiaMpios))\n",
    "\n",
    "# Clip the NL images to Colombia's boundaries\n",
    "firms_COL = firms_binary.map(lambda image: image.clip(colombiaMpios))\n",
    "\n",
    "# Create a mask where fcover is equal to 1.\n",
    "primaryMask = primaryForest_ideam_COL.eq(1)\n",
    "\n",
    "# Masking the firms imagery using the primary mask (cover equals 1)\n",
    "firms_COLmasked = firms_COL.map(lambda img: img.updateMask(primaryMask))"
   ]
  },
  {
   "cell_type": "markdown",
   "metadata": {},
   "source": [
    "## Code for all years from 2000 to 2021"
   ]
  },
  {
   "cell_type": "code",
   "execution_count": 4,
   "metadata": {},
   "outputs": [
    {
     "data": {
      "text/html": [
       "\n",
       "            <style>\n",
       "                .geemap-dark {\n",
       "                    --jp-widgets-color: white;\n",
       "                    --jp-widgets-label-color: white;\n",
       "                    --jp-ui-font-color1: white;\n",
       "                    --jp-layout-color2: #454545;\n",
       "                    background-color: #383838;\n",
       "                }\n",
       "\n",
       "                .geemap-dark .jupyter-button {\n",
       "                    --jp-layout-color3: #383838;\n",
       "                }\n",
       "\n",
       "                .geemap-colab {\n",
       "                    background-color: var(--colab-primary-surface-color, white);\n",
       "                }\n",
       "\n",
       "                .geemap-colab .jupyter-button {\n",
       "                    --jp-layout-color3: var(--colab-primary-surface-color, white);\n",
       "                }\n",
       "            </style>\n",
       "            "
      ],
      "text/plain": [
       "<IPython.core.display.HTML object>"
      ]
     },
     "metadata": {},
     "output_type": "display_data"
    },
    {
     "name": "stdout",
     "output_type": "stream",
     "text": [
      "{'type': 'Feature', 'geometry': None, 'id': '00000000000000000263', 'properties': {'codmpio': 5002, 'firearea2000': 0}}\n",
      "{'type': 'Feature', 'geometry': None, 'id': '00000000000000000263', 'properties': {'codmpio': 5002, 'firearea2001': 0}}\n",
      "{'type': 'Feature', 'geometry': None, 'id': '00000000000000000263', 'properties': {'codmpio': 5002, 'firearea2002': 0}}\n",
      "{'type': 'Feature', 'geometry': None, 'id': '00000000000000000263', 'properties': {'codmpio': 5002, 'firearea2003': 0}}\n",
      "{'type': 'Feature', 'geometry': None, 'id': '00000000000000000263', 'properties': {'codmpio': 5002, 'firearea2004': 0}}\n",
      "{'type': 'Feature', 'geometry': None, 'id': '00000000000000000263', 'properties': {'codmpio': 5002, 'firearea2005': 0}}\n",
      "{'type': 'Feature', 'geometry': None, 'id': '00000000000000000263', 'properties': {'codmpio': 5002, 'firearea2006': 0}}\n",
      "{'type': 'Feature', 'geometry': None, 'id': '00000000000000000263', 'properties': {'codmpio': 5002, 'firearea2007': 0}}\n",
      "{'type': 'Feature', 'geometry': None, 'id': '00000000000000000263', 'properties': {'codmpio': 5002, 'firearea2008': 0}}\n",
      "{'type': 'Feature', 'geometry': None, 'id': '00000000000000000263', 'properties': {'codmpio': 5002, 'firearea2009': 0}}\n",
      "{'type': 'Feature', 'geometry': None, 'id': '00000000000000000263', 'properties': {'codmpio': 5002, 'firearea2010': 0}}\n",
      "{'type': 'Feature', 'geometry': None, 'id': '00000000000000000263', 'properties': {'codmpio': 5002, 'firearea2011': 0}}\n",
      "{'type': 'Feature', 'geometry': None, 'id': '00000000000000000263', 'properties': {'codmpio': 5002, 'firearea2012': 0}}\n",
      "{'type': 'Feature', 'geometry': None, 'id': '00000000000000000263', 'properties': {'codmpio': 5002, 'firearea2013': 0}}\n",
      "{'type': 'Feature', 'geometry': None, 'id': '00000000000000000263', 'properties': {'codmpio': 5002, 'firearea2014': 0}}\n",
      "{'type': 'Feature', 'geometry': None, 'id': '00000000000000000263', 'properties': {'codmpio': 5002, 'firearea2015': 0}}\n",
      "{'type': 'Feature', 'geometry': None, 'id': '00000000000000000263', 'properties': {'codmpio': 5002, 'firearea2016': 0}}\n",
      "{'type': 'Feature', 'geometry': None, 'id': '00000000000000000263', 'properties': {'codmpio': 5002, 'firearea2017': 0}}\n",
      "{'type': 'Feature', 'geometry': None, 'id': '00000000000000000263', 'properties': {'codmpio': 5002, 'firearea2018': 0}}\n",
      "{'type': 'Feature', 'geometry': None, 'id': '00000000000000000263', 'properties': {'codmpio': 5002, 'firearea2019': 0}}\n",
      "{'type': 'Feature', 'geometry': None, 'id': '00000000000000000263', 'properties': {'codmpio': 5002, 'firearea2020': 0}}\n"
     ]
    }
   ],
   "source": [
    "# Calculate the total loss area per municipality\n",
    "def calculate_loss_area(feature, year):\n",
    "\n",
    "    firms_year = firms_COLmasked.filterDate(f'{year}-01-01', f'{year}-12-31').max()\n",
    "\n",
    "    # Calculate the loss area for the current year in square meters\n",
    "    firms_year_area = firms_year.multiply(ee.Image.pixelArea())\n",
    "\n",
    "    # Use reduceRegion to calculate the sum of the loss area within the feature's geometry\n",
    "    fire_area = firms_year_area.reduceRegion(\n",
    "        reducer=ee.Reducer.sum(),\n",
    "        geometry=feature.geometry(),\n",
    "        scale=30,\n",
    "        maxPixels=1e9\n",
    "    ).get('constant')  # Replace 'lossyear' with the correct property name if different\n",
    "    \n",
    "    # Dynamically name the loss area property\n",
    "    fire_area_property_name = f'firearea{year}'\n",
    "\n",
    "    # Return a new feature with only the 'lossArea' and 'codmpio' properties\n",
    "    return ee.Feature(None, {\n",
    "        fire_area_property_name: fire_area,\n",
    "        'codmpio': feature.get('codmpio'),  # Ensure 'codmpio' exists in the original feature\n",
    "    })\n",
    "\n",
    "# Dictionary to store results for each year\n",
    "year_results_dict = {}\n",
    "\n",
    "for year in range(2000, 2021):\n",
    "    # Use a lambda function to pass the current year into the map function\n",
    "    current_year_results = colombiaMpios.map(lambda feature: calculate_loss_area(feature, year))\n",
    "    year_results_dict[f'fire_year_results{year}'] = current_year_results\n",
    "    # Optionally print the first feature's info to check\n",
    "    print(year_results_dict[f'fire_year_results{year}'].first().getInfo())\n"
   ]
  },
  {
   "cell_type": "markdown",
   "metadata": {},
   "source": [
    "## Exporting CVS files to my Google Drive  \n",
    "### NOTE: see the progress of exports at [GEE Task Manager](https://code.earthengine.google.com/tasks)"
   ]
  },
  {
   "cell_type": "code",
   "execution_count": 6,
   "metadata": {},
   "outputs": [
    {
     "data": {
      "text/html": [
       "\n",
       "            <style>\n",
       "                .geemap-dark {\n",
       "                    --jp-widgets-color: white;\n",
       "                    --jp-widgets-label-color: white;\n",
       "                    --jp-ui-font-color1: white;\n",
       "                    --jp-layout-color2: #454545;\n",
       "                    background-color: #383838;\n",
       "                }\n",
       "\n",
       "                .geemap-dark .jupyter-button {\n",
       "                    --jp-layout-color3: #383838;\n",
       "                }\n",
       "\n",
       "                .geemap-colab {\n",
       "                    background-color: var(--colab-primary-surface-color, white);\n",
       "                }\n",
       "\n",
       "                .geemap-colab .jupyter-button {\n",
       "                    --jp-layout-color3: var(--colab-primary-surface-color, white);\n",
       "                }\n",
       "            </style>\n",
       "            "
      ],
      "text/plain": [
       "<IPython.core.display.HTML object>"
      ]
     },
     "metadata": {},
     "output_type": "display_data"
    },
    {
     "name": "stdout",
     "output_type": "stream",
     "text": [
      "Exporting FiresData_Year2000 to Google Drive...\n",
      "Exporting FiresData_Year2001 to Google Drive...\n",
      "Exporting FiresData_Year2002 to Google Drive...\n",
      "Exporting FiresData_Year2003 to Google Drive...\n",
      "Exporting FiresData_Year2004 to Google Drive...\n",
      "Exporting FiresData_Year2005 to Google Drive...\n",
      "Exporting FiresData_Year2006 to Google Drive...\n",
      "Exporting FiresData_Year2007 to Google Drive...\n",
      "Exporting FiresData_Year2008 to Google Drive...\n",
      "Exporting FiresData_Year2009 to Google Drive...\n",
      "Exporting FiresData_Year2010 to Google Drive...\n",
      "Exporting FiresData_Year2011 to Google Drive...\n",
      "Exporting FiresData_Year2012 to Google Drive...\n",
      "Exporting FiresData_Year2013 to Google Drive...\n",
      "Exporting FiresData_Year2014 to Google Drive...\n",
      "Exporting FiresData_Year2015 to Google Drive...\n",
      "Exporting FiresData_Year2016 to Google Drive...\n",
      "Exporting FiresData_Year2017 to Google Drive...\n",
      "Exporting FiresData_Year2018 to Google Drive...\n",
      "Exporting FiresData_Year2019 to Google Drive...\n",
      "Exporting FiresData_Year2020 to Google Drive...\n"
     ]
    }
   ],
   "source": [
    "# Define a function to export FeatureCollections to Google Drive\n",
    "def export_to_drive(feature_collection, year, description_prefix=\"FiresData\", folder_name=\"EarthEngineExports\"):\n",
    "    # Create the export task\n",
    "    export_task = ee.batch.Export.table.toDrive(\n",
    "        collection=feature_collection,\n",
    "        description=f\"{description_prefix}_Year{year}\",\n",
    "        folder=\"EarthEngineExports\",\n",
    "        fileNamePrefix=f\"Fires_Year{year}\",\n",
    "        fileFormat=\"CSV\"\n",
    "    )\n",
    "    # Start the export task\n",
    "    export_task.start()\n",
    "    print(f\"Exporting {description_prefix}_Year{year} to Google Drive...\")\n",
    "\n",
    "# Loop through each item in the dictionary and initiate an export\n",
    "for year, feature_collection in year_results_dict.items():\n",
    "    # Extract the year from the key (which is a string like 'year_results11')\n",
    "    extracted_year = int(year.replace('fire_year_results', ''))\n",
    "    export_to_drive(feature_collection, extracted_year)\n",
    "    \n",
    "#END"
   ]
  }
 ],
 "metadata": {
  "kernelspec": {
   "display_name": "geo",
   "language": "python",
   "name": "python3"
  },
  "language_info": {
   "codemirror_mode": {
    "name": "ipython",
    "version": 3
   },
   "file_extension": ".py",
   "mimetype": "text/x-python",
   "name": "python",
   "nbconvert_exporter": "python",
   "pygments_lexer": "ipython3",
   "version": "3.9.20"
  }
 },
 "nbformat": 4,
 "nbformat_minor": 2
}
