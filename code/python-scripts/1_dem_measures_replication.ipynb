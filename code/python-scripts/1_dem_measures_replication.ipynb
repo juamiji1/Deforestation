{
 "cells": [
  {
   "cell_type": "code",
   "execution_count": 2,
   "id": "30138a7a",
   "metadata": {},
   "outputs": [
    {
     "data": {
      "text/html": [
       "\n",
       "            <style>\n",
       "                .geemap-dark {\n",
       "                    --jp-widgets-color: white;\n",
       "                    --jp-widgets-label-color: white;\n",
       "                    --jp-ui-font-color1: white;\n",
       "                    --jp-layout-color2: #454545;\n",
       "                    background-color: #383838;\n",
       "                }\n",
       "\n",
       "                .geemap-dark .jupyter-button {\n",
       "                    --jp-layout-color3: #383838;\n",
       "                }\n",
       "\n",
       "                .geemap-colab {\n",
       "                    background-color: var(--colab-primary-surface-color, white);\n",
       "                }\n",
       "\n",
       "                .geemap-colab .jupyter-button {\n",
       "                    --jp-layout-color3: var(--colab-primary-surface-color, white);\n",
       "                }\n",
       "            </style>\n",
       "            "
      ],
      "text/plain": [
       "<IPython.core.display.HTML object>"
      ]
     },
     "metadata": {},
     "output_type": "display_data"
    }
   ],
   "source": [
    "import os\n",
    "import ee\n",
    "import geemap \n",
    "import pandas as pd\n",
    "\n",
    "#ee.Authenticate()\n",
    "ee.Initialize()"
   ]
  },
  {
   "cell_type": "code",
   "execution_count": 3,
   "id": "98e9b540",
   "metadata": {},
   "outputs": [
    {
     "data": {
      "text/html": [
       "\n",
       "            <style>\n",
       "                .geemap-dark {\n",
       "                    --jp-widgets-color: white;\n",
       "                    --jp-widgets-label-color: white;\n",
       "                    --jp-ui-font-color1: white;\n",
       "                    --jp-layout-color2: #454545;\n",
       "                    background-color: #383838;\n",
       "                }\n",
       "\n",
       "                .geemap-dark .jupyter-button {\n",
       "                    --jp-layout-color3: #383838;\n",
       "                }\n",
       "\n",
       "                .geemap-colab {\n",
       "                    background-color: var(--colab-primary-surface-color, white);\n",
       "                }\n",
       "\n",
       "                .geemap-colab .jupyter-button {\n",
       "                    --jp-layout-color3: var(--colab-primary-surface-color, white);\n",
       "                }\n",
       "            </style>\n",
       "            "
      ],
      "text/plain": [
       "<IPython.core.display.HTML object>"
      ]
     },
     "metadata": {},
     "output_type": "display_data"
    }
   ],
   "source": [
    "# Define the bounding box of Colombia (using a shapefile uploaded to the assets folder)\n",
    "colombiaMpios = ee.FeatureCollection('projects/ee-juamiji/assets/Muni')\n",
    "\n",
    "# Import the Imagery of Nighttime Lights (Harmonized DMSP-OLS and VIIRS)\n",
    "dem = ee.Image(\"USGS/SRTMGL1_003\") \n",
    "\n",
    "# Clip the images to Colombia's boundaries\n",
    "dem_COL = dem.clip(colombiaMpios)\n"
   ]
  },
  {
   "cell_type": "code",
   "execution_count": 4,
   "id": "4bd6987e",
   "metadata": {},
   "outputs": [
    {
     "data": {
      "text/html": [
       "\n",
       "            <style>\n",
       "                .geemap-dark {\n",
       "                    --jp-widgets-color: white;\n",
       "                    --jp-widgets-label-color: white;\n",
       "                    --jp-ui-font-color1: white;\n",
       "                    --jp-layout-color2: #454545;\n",
       "                    background-color: #383838;\n",
       "                }\n",
       "\n",
       "                .geemap-dark .jupyter-button {\n",
       "                    --jp-layout-color3: #383838;\n",
       "                }\n",
       "\n",
       "                .geemap-colab {\n",
       "                    background-color: var(--colab-primary-surface-color, white);\n",
       "                }\n",
       "\n",
       "                .geemap-colab .jupyter-button {\n",
       "                    --jp-layout-color3: var(--colab-primary-surface-color, white);\n",
       "                }\n",
       "            </style>\n",
       "            "
      ],
      "text/plain": [
       "<IPython.core.display.HTML object>"
      ]
     },
     "metadata": {},
     "output_type": "display_data"
    },
    {
     "name": "stdout",
     "output_type": "stream",
     "text": [
      "{'type': 'Feature', 'geometry': None, 'id': '00000000000000000263', 'properties': {'codmpio': 5002, 'mean_dem': 1944.8130860917647}}\n"
     ]
    }
   ],
   "source": [
    "# Calculate the mean elevation for the current year in square meters\n",
    "def calculate_dem_mean(feature):\n",
    "\n",
    "    # Use reduceRegion to calculate the mean elevation within the feature's geometry\n",
    "    mean_dem = dem_COL.reduceRegion(\n",
    "        reducer=ee.Reducer.mean(),\n",
    "        geometry=feature.geometry(),\n",
    "        scale=30,\n",
    "        maxPixels=1e9\n",
    "    ).get('elevation') \n",
    "\n",
    "    # Return a new feature with only the 'mean_dem' and 'codmpio' properties\n",
    "    return ee.Feature(None, {\n",
    "        'mean_dem': mean_dem,\n",
    "        'codmpio': feature.get('codmpio'),  # Ensure 'codmpio' exists in the original feature\n",
    "    })\n",
    "\n",
    "# Dictionary to store results for each year\n",
    "results_dict1 = {}\n",
    "\n",
    "# Use a lambda function to pass the current year into the map function\n",
    "mean_dem_all = colombiaMpios.map(lambda feature: calculate_dem_mean(feature))\n",
    "results_dict1['mean_dem'] = mean_dem_all\n",
    "\n",
    "# Optionally print the first feature's info to check\n",
    "print(results_dict1['mean_dem'].first().getInfo())"
   ]
  },
  {
   "cell_type": "code",
   "execution_count": 5,
   "id": "708f8a32",
   "metadata": {},
   "outputs": [
    {
     "data": {
      "text/html": [
       "\n",
       "            <style>\n",
       "                .geemap-dark {\n",
       "                    --jp-widgets-color: white;\n",
       "                    --jp-widgets-label-color: white;\n",
       "                    --jp-ui-font-color1: white;\n",
       "                    --jp-layout-color2: #454545;\n",
       "                    background-color: #383838;\n",
       "                }\n",
       "\n",
       "                .geemap-dark .jupyter-button {\n",
       "                    --jp-layout-color3: #383838;\n",
       "                }\n",
       "\n",
       "                .geemap-colab {\n",
       "                    background-color: var(--colab-primary-surface-color, white);\n",
       "                }\n",
       "\n",
       "                .geemap-colab .jupyter-button {\n",
       "                    --jp-layout-color3: var(--colab-primary-surface-color, white);\n",
       "                }\n",
       "            </style>\n",
       "            "
      ],
      "text/plain": [
       "<IPython.core.display.HTML object>"
      ]
     },
     "metadata": {},
     "output_type": "display_data"
    },
    {
     "name": "stdout",
     "output_type": "stream",
     "text": [
      "{'type': 'Feature', 'geometry': None, 'id': '00000000000000000263', 'properties': {'codmpio': 5002, 'mean_ruggedness': 10.996409902363228}}\n"
     ]
    }
   ],
   "source": [
    "# Calculate the mean ruggedness (Terrain Ruggedness Index) for each feature\n",
    "def calculate_ruggedness_mean(feature):\n",
    "    \n",
    "    # Calculate TRI using focal statistics (standard deviation of elevation)\n",
    "    # TRI measures the difference between a cell and its surrounding cells\n",
    "    ruggedness = dem_COL.select('elevation').reduceNeighborhood(\n",
    "        reducer=ee.Reducer.stdDev(),\n",
    "        kernel=ee.Kernel.square(1)  # 3x3 pixel window\n",
    "    )\n",
    "    \n",
    "    # Use reduceRegion to calculate the mean ruggedness within the feature's geometry\n",
    "    mean_ruggedness = ruggedness.reduceRegion(\n",
    "        reducer=ee.Reducer.mean(),\n",
    "        geometry=feature.geometry(),\n",
    "        scale=30,\n",
    "        maxPixels=1e9\n",
    "    ).get('elevation_stdDev')  # Band name changes to 'elevation_stdDev' after reduceNeighborhood\n",
    "\n",
    "    # Return a new feature with only the 'mean_ruggedness' and 'codmpio' properties\n",
    "    return ee.Feature(None, {\n",
    "        'mean_ruggedness': mean_ruggedness,\n",
    "        'codmpio': feature.get('codmpio'),  # Ensure 'codmpio' exists in the original feature\n",
    "    })\n",
    "\n",
    "results_dict2 = {}\n",
    "\n",
    "# Use a lambda function to calculate ruggedness for all features\n",
    "mean_ruggedness_all = colombiaMpios.map(lambda feature: calculate_ruggedness_mean(feature))\n",
    "results_dict2['mean_ruggedness'] = mean_ruggedness_all\n",
    "\n",
    "# Optionally print the first feature's info to check\n",
    "print(results_dict2['mean_ruggedness'].first().getInfo())"
   ]
  },
  {
   "cell_type": "code",
   "execution_count": 6,
   "id": "8f337405",
   "metadata": {},
   "outputs": [
    {
     "data": {
      "text/html": [
       "\n",
       "            <style>\n",
       "                .geemap-dark {\n",
       "                    --jp-widgets-color: white;\n",
       "                    --jp-widgets-label-color: white;\n",
       "                    --jp-ui-font-color1: white;\n",
       "                    --jp-layout-color2: #454545;\n",
       "                    background-color: #383838;\n",
       "                }\n",
       "\n",
       "                .geemap-dark .jupyter-button {\n",
       "                    --jp-layout-color3: #383838;\n",
       "                }\n",
       "\n",
       "                .geemap-colab {\n",
       "                    background-color: var(--colab-primary-surface-color, white);\n",
       "                }\n",
       "\n",
       "                .geemap-colab .jupyter-button {\n",
       "                    --jp-layout-color3: var(--colab-primary-surface-color, white);\n",
       "                }\n",
       "            </style>\n",
       "            "
      ],
      "text/plain": [
       "<IPython.core.display.HTML object>"
      ]
     },
     "metadata": {},
     "output_type": "display_data"
    },
    {
     "name": "stdout",
     "output_type": "stream",
     "text": [
      "Exporting Elevation to Google Drive...\n"
     ]
    }
   ],
   "source": [
    "# Set description\n",
    "description_file = 'Elevation'\n",
    "\n",
    "# Export the FeatureCollection to Google Drive\n",
    "export_task = ee.batch.Export.table.toDrive(\n",
    "    collection=results_dict1['mean_dem'],\n",
    "    description=description_file,\n",
    "    folder=\"EarthEngineExports\",\n",
    "    fileFormat='CSV'\n",
    ")\n",
    "\n",
    "# Start the export task\n",
    "export_task.start()\n",
    "print(f\"Exporting {description_file} to Google Drive...\")"
   ]
  },
  {
   "cell_type": "code",
   "execution_count": 7,
   "id": "5fbbe84d",
   "metadata": {},
   "outputs": [
    {
     "data": {
      "text/html": [
       "\n",
       "            <style>\n",
       "                .geemap-dark {\n",
       "                    --jp-widgets-color: white;\n",
       "                    --jp-widgets-label-color: white;\n",
       "                    --jp-ui-font-color1: white;\n",
       "                    --jp-layout-color2: #454545;\n",
       "                    background-color: #383838;\n",
       "                }\n",
       "\n",
       "                .geemap-dark .jupyter-button {\n",
       "                    --jp-layout-color3: #383838;\n",
       "                }\n",
       "\n",
       "                .geemap-colab {\n",
       "                    background-color: var(--colab-primary-surface-color, white);\n",
       "                }\n",
       "\n",
       "                .geemap-colab .jupyter-button {\n",
       "                    --jp-layout-color3: var(--colab-primary-surface-color, white);\n",
       "                }\n",
       "            </style>\n",
       "            "
      ],
      "text/plain": [
       "<IPython.core.display.HTML object>"
      ]
     },
     "metadata": {},
     "output_type": "display_data"
    },
    {
     "name": "stdout",
     "output_type": "stream",
     "text": [
      "Exporting Ruggedness to Google Drive...\n"
     ]
    }
   ],
   "source": [
    "# Set description\n",
    "description_file = 'Ruggedness'\n",
    "\n",
    "# Export the FeatureCollection to Google Drive\n",
    "export_task = ee.batch.Export.table.toDrive(\n",
    "    collection=results_dict2['mean_ruggedness'],\n",
    "    description=description_file,\n",
    "    folder=\"EarthEngineExports\",\n",
    "    fileFormat='CSV'\n",
    ")\n",
    "\n",
    "# Start the export task\n",
    "export_task.start()\n",
    "print(f\"Exporting {description_file} to Google Drive...\")"
   ]
  }
 ],
 "metadata": {
  "kernelspec": {
   "display_name": "geo",
   "language": "python",
   "name": "python3"
  },
  "language_info": {
   "codemirror_mode": {
    "name": "ipython",
    "version": 3
   },
   "file_extension": ".py",
   "mimetype": "text/x-python",
   "name": "python",
   "nbconvert_exporter": "python",
   "pygments_lexer": "ipython3",
   "version": "3.9.20"
  }
 },
 "nbformat": 4,
 "nbformat_minor": 5
}
