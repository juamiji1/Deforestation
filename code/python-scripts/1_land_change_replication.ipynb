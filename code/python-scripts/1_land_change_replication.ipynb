{
 "cells": [
  {
   "cell_type": "markdown",
   "id": "075134e0",
   "metadata": {},
   "source": [
    "# Calculating Land use change"
   ]
  },
  {
   "cell_type": "code",
   "execution_count": 32,
   "id": "4a32650f",
   "metadata": {},
   "outputs": [
    {
     "data": {
      "text/html": [
       "\n",
       "            <style>\n",
       "                .geemap-dark {\n",
       "                    --jp-widgets-color: white;\n",
       "                    --jp-widgets-label-color: white;\n",
       "                    --jp-ui-font-color1: white;\n",
       "                    --jp-layout-color2: #454545;\n",
       "                    background-color: #383838;\n",
       "                }\n",
       "\n",
       "                .geemap-dark .jupyter-button {\n",
       "                    --jp-layout-color3: #383838;\n",
       "                }\n",
       "\n",
       "                .geemap-colab {\n",
       "                    background-color: var(--colab-primary-surface-color, white);\n",
       "                }\n",
       "\n",
       "                .geemap-colab .jupyter-button {\n",
       "                    --jp-layout-color3: var(--colab-primary-surface-color, white);\n",
       "                }\n",
       "            </style>\n",
       "            "
      ],
      "text/plain": [
       "<IPython.core.display.HTML object>"
      ]
     },
     "metadata": {},
     "output_type": "display_data"
    }
   ],
   "source": [
    "import os\n",
    "import ee\n",
    "import geemap \n",
    "import pandas as pd\n",
    "\n",
    "#ee.Authenticate()\n",
    "ee.Initialize()"
   ]
  },
  {
   "cell_type": "code",
   "execution_count": 33,
   "id": "1edd6940",
   "metadata": {},
   "outputs": [
    {
     "data": {
      "text/html": [
       "\n",
       "            <style>\n",
       "                .geemap-dark {\n",
       "                    --jp-widgets-color: white;\n",
       "                    --jp-widgets-label-color: white;\n",
       "                    --jp-ui-font-color1: white;\n",
       "                    --jp-layout-color2: #454545;\n",
       "                    background-color: #383838;\n",
       "                }\n",
       "\n",
       "                .geemap-dark .jupyter-button {\n",
       "                    --jp-layout-color3: #383838;\n",
       "                }\n",
       "\n",
       "                .geemap-colab {\n",
       "                    background-color: var(--colab-primary-surface-color, white);\n",
       "                }\n",
       "\n",
       "                .geemap-colab .jupyter-button {\n",
       "                    --jp-layout-color3: var(--colab-primary-surface-color, white);\n",
       "                }\n",
       "            </style>\n",
       "            "
      ],
      "text/plain": [
       "<IPython.core.display.HTML object>"
      ]
     },
     "metadata": {},
     "output_type": "display_data"
    }
   ],
   "source": [
    "# Define the bounding box of Colombia (using a shapefile uploaded to the assets folder)\n",
    "colombiaMpios = ee.FeatureCollection('projects/ee-juamiji/assets/Muni')\n",
    "\n",
    "# Load image collections\n",
    "dynamicWorld = ee.ImageCollection(\"GOOGLE/DYNAMICWORLD/V1\")\n",
    "landsat= ee.ImageCollection(\"LANDSAT/LC08/C02/T1_L2\")\n",
    "\n",
    "# Function to clip each image\n",
    "def clip_to_colombia(image):\n",
    "    return image.clip(colombiaMpios)\n",
    "\n",
    "# Apply the clip function to each image in the collections\n",
    "dynamicWorld_COL = dynamicWorld.map(clip_to_colombia)\n",
    "landsat_COL = landsat.map(clip_to_colombia)\n",
    "\n",
    "# Import the Forest loss image\n",
    "flossHansen = ee.Image(\"UMD/hansen/global_forest_change_2023_v1_11\")\n",
    "\n",
    "# Import the Primary Tropical Forest cover image collection and filter it for Colombia\n",
    "primaryForest_ideam = ee.Image(\"projects/ee-juamiji/assets/SouthAmerica_2001_primary\").selfMask()\n",
    "primaryForest_ideam_COL = primaryForest_ideam.clip(colombiaMpios)\n",
    "\n",
    "# Clip the Forest loss image to Colombia's boundaries\n",
    "flossHansen_COL = flossHansen.clip(colombiaMpios)\n",
    "\n",
    "# Create a mask where fcover is equal to 1.\n",
    "primaryMask = primaryForest_ideam_COL.eq(1)\n",
    "\n",
    "# Masking the floss imagery using the primary mask (cover equals 1)\n",
    "flossHansen_COLmasked = flossHansen_COL.updateMask(primaryMask)\n",
    "\n",
    "# Select the 'lossyear' band from the masked forest loss image\n",
    "loss_year = flossHansen_COLmasked.select(['lossyear'])"
   ]
  },
  {
   "cell_type": "code",
   "execution_count": null,
   "id": "7b616d94",
   "metadata": {},
   "outputs": [
    {
     "data": {
      "text/html": [
       "\n",
       "            <style>\n",
       "                .geemap-dark {\n",
       "                    --jp-widgets-color: white;\n",
       "                    --jp-widgets-label-color: white;\n",
       "                    --jp-ui-font-color1: white;\n",
       "                    --jp-layout-color2: #454545;\n",
       "                    background-color: #383838;\n",
       "                }\n",
       "\n",
       "                .geemap-dark .jupyter-button {\n",
       "                    --jp-layout-color3: #383838;\n",
       "                }\n",
       "\n",
       "                .geemap-colab {\n",
       "                    background-color: var(--colab-primary-surface-color, white);\n",
       "                }\n",
       "\n",
       "                .geemap-colab .jupyter-button {\n",
       "                    --jp-layout-color3: var(--colab-primary-surface-color, white);\n",
       "                }\n",
       "            </style>\n",
       "            "
      ],
      "text/plain": [
       "<IPython.core.display.HTML object>"
      ]
     },
     "metadata": {},
     "output_type": "display_data"
    }
   ],
   "source": [
    "#Defining function to calculate Land change in forest loss areas\n",
    "def calculate_land_change(feature, year):\n",
    "\n",
    "    #Selecting year of interest (SHOULD BE MODE INSTEAD OF MAX?)\n",
    "    dynamicWorld_year = dynamicWorld_COL.filterDate(f'{year}-01-01', f'{year}-12-31').mode()\n",
    "\n",
    "    loss_year_mask = loss_year.eq(year-2001)\n",
    "\n",
    "    #Masking the dynamicWorld image using the loss year mask\n",
    "    dynamicWorld_year_infloss = dynamicWorld_year.updateMask(loss_year_mask)\n",
    "\n",
    "    # Select the 'label' band from the Dynamic World image\n",
    "    label_band = dynamicWorld_year_infloss.select('label')\n",
    "\n",
    "    # Define land cover class codes and their names\n",
    "    land_cover_classes = {\n",
    "        2: 'grass',\n",
    "        4: 'crop',\n",
    "        5: 'shrub',\n",
    "        6: 'built',\n",
    "        7: 'bare'\n",
    "    }\n",
    "\n",
    "    # Initialize an empty dictionary to hold area images\n",
    "    area_images = {}\n",
    "\n",
    "    # Generate area images for each land cover class\n",
    "    for code, name in land_cover_classes.items():\n",
    "        mask = label_band.eq(code)\n",
    "        area_image = mask.multiply(ee.Image.pixelArea()).rename(f'{name}_area')\n",
    "        area_images[name] = area_image\n",
    "\n",
    "    # Compute areas by municipality for selected classes\n",
    "    results = {}\n",
    "    for name, image in area_images.items():\n",
    "        area_sum = image.reduceRegion(\n",
    "            reducer=ee.Reducer.sum(),\n",
    "            geometry=feature.geometry(),\n",
    "            scale=30,\n",
    "            maxPixels=1e9\n",
    "        ).get(f'{name}_area')\n",
    "        results[f'{name}_area_muni'] = area_sum\n",
    "\n",
    "    # Return a new feature with only the 'lossArea' and 'codmpio' properties\n",
    "    return ee.Feature(None, {\n",
    "        'codmpio': feature.get('codmpio'),\n",
    "        #f'crop_area{year}': results['crop_area_muni'],\n",
    "        #f'grass_area{year}': results['grass_area_muni'],\n",
    "        f'shrub_area{year}': results['shrub_area_muni'],\n",
    "        #f'built_area{year}': results['built_area_muni'],\n",
    "        #f'bare_area{year}': results['bare_area_muni']\n",
    "    })"
   ]
  },
  {
   "cell_type": "code",
   "execution_count": 63,
   "id": "ea021213",
   "metadata": {},
   "outputs": [
    {
     "data": {
      "text/html": [
       "\n",
       "            <style>\n",
       "                .geemap-dark {\n",
       "                    --jp-widgets-color: white;\n",
       "                    --jp-widgets-label-color: white;\n",
       "                    --jp-ui-font-color1: white;\n",
       "                    --jp-layout-color2: #454545;\n",
       "                    background-color: #383838;\n",
       "                }\n",
       "\n",
       "                .geemap-dark .jupyter-button {\n",
       "                    --jp-layout-color3: #383838;\n",
       "                }\n",
       "\n",
       "                .geemap-colab {\n",
       "                    background-color: var(--colab-primary-surface-color, white);\n",
       "                }\n",
       "\n",
       "                .geemap-colab .jupyter-button {\n",
       "                    --jp-layout-color3: var(--colab-primary-surface-color, white);\n",
       "                }\n",
       "            </style>\n",
       "            "
      ],
      "text/plain": [
       "<IPython.core.display.HTML object>"
      ]
     },
     "metadata": {},
     "output_type": "display_data"
    },
    {
     "name": "stdout",
     "output_type": "stream",
     "text": [
      "{'type': 'Feature', 'geometry': None, 'id': '00000000000000000263', 'properties': {'codmpio': 5002, 'shrub_area2015': 0}}\n",
      "{'type': 'Feature', 'geometry': None, 'id': '00000000000000000263', 'properties': {'codmpio': 5002, 'shrub_area2016': 0}}\n",
      "{'type': 'Feature', 'geometry': None, 'id': '00000000000000000263', 'properties': {'codmpio': 5002, 'shrub_area2017': 0}}\n",
      "{'type': 'Feature', 'geometry': None, 'id': '00000000000000000263', 'properties': {'codmpio': 5002, 'shrub_area2018': 0}}\n",
      "{'type': 'Feature', 'geometry': None, 'id': '00000000000000000263', 'properties': {'codmpio': 5002, 'shrub_area2019': 889.4454956054688}}\n",
      "{'type': 'Feature', 'geometry': None, 'id': '00000000000000000263', 'properties': {'codmpio': 5002, 'shrub_area2020': 8894.301086425781}}\n",
      "{'type': 'Feature', 'geometry': None, 'id': '00000000000000000263', 'properties': {'codmpio': 5002, 'shrub_area2021': 889.453857421875}}\n"
     ]
    }
   ],
   "source": [
    "# Dictionary to store results for each year\n",
    "year_results_dict = {}\n",
    "\n",
    "for year in range(2015, 2022):\n",
    "    # Use a lambda function to pass the current year into the map function\n",
    "    current_year_results = colombiaMpios.map(lambda feature: calculate_land_change(feature, year))\n",
    "    year_results_dict[f'shrub_year_results{year}'] = current_year_results\n",
    "    # Optionally print the first feature's info to check\n",
    "    print(year_results_dict[f'shrub_year_results{year}'].first().getInfo())"
   ]
  },
  {
   "cell_type": "code",
   "execution_count": 64,
   "id": "39af77ec",
   "metadata": {},
   "outputs": [
    {
     "data": {
      "text/html": [
       "\n",
       "            <style>\n",
       "                .geemap-dark {\n",
       "                    --jp-widgets-color: white;\n",
       "                    --jp-widgets-label-color: white;\n",
       "                    --jp-ui-font-color1: white;\n",
       "                    --jp-layout-color2: #454545;\n",
       "                    background-color: #383838;\n",
       "                }\n",
       "\n",
       "                .geemap-dark .jupyter-button {\n",
       "                    --jp-layout-color3: #383838;\n",
       "                }\n",
       "\n",
       "                .geemap-colab {\n",
       "                    background-color: var(--colab-primary-surface-color, white);\n",
       "                }\n",
       "\n",
       "                .geemap-colab .jupyter-button {\n",
       "                    --jp-layout-color3: var(--colab-primary-surface-color, white);\n",
       "                }\n",
       "            </style>\n",
       "            "
      ],
      "text/plain": [
       "<IPython.core.display.HTML object>"
      ]
     },
     "metadata": {},
     "output_type": "display_data"
    }
   ],
   "source": [
    "# Define a function to export FeatureCollections to Google Drive\n",
    "def export_to_drive(feature_collection, year, description_prefix=\"ShrubData\", folder_name=\"EarthEngineExports\"):\n",
    "    # Create the export task\n",
    "    export_task = ee.batch.Export.table.toDrive(\n",
    "        collection=feature_collection,\n",
    "        description=f\"{description_prefix}_Year{year}\",\n",
    "        folder=folder_name,\n",
    "        fileNamePrefix=f\"shrub_Year{year}\",\n",
    "        fileFormat=\"CSV\"\n",
    "    )\n",
    "    # Start the export task\n",
    "    export_task.start()\n",
    "    print(f\"Exporting {description_prefix}_Year{year} to Google Drive...\")"
   ]
  },
  {
   "cell_type": "code",
   "execution_count": null,
   "id": "5b9cf963",
   "metadata": {},
   "outputs": [],
   "source": [
    "# Loop through each item in the dictionary and initiate an export\n",
    "for year, feature_collection in year_results_dict.items():\n",
    "    # Extract the year from the key (which is a string like 'year_results11')\n",
    "    extracted_year = int(year.replace('shrub_year_results', ''))\n",
    "    export_to_drive(feature_collection, extracted_year)"
   ]
  }
 ],
 "metadata": {
  "kernelspec": {
   "display_name": "geo",
   "language": "python",
   "name": "python3"
  },
  "language_info": {
   "codemirror_mode": {
    "name": "ipython",
    "version": 3
   },
   "file_extension": ".py",
   "mimetype": "text/x-python",
   "name": "python",
   "nbconvert_exporter": "python",
   "pygments_lexer": "ipython3",
   "version": "3.9.20"
  }
 },
 "nbformat": 4,
 "nbformat_minor": 5
}
